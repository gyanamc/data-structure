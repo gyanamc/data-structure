{
 "cells": [
  {
   "cell_type": "markdown",
   "id": "a3ba95e9",
   "metadata": {},
   "source": [
    "Print the first 5 positive integers in ascending order with one number in each line"
   ]
  },
  {
   "cell_type": "code",
   "execution_count": 2,
   "id": "98bf1766",
   "metadata": {},
   "outputs": [
    {
     "name": "stdout",
     "output_type": "stream",
     "text": [
      "1 2 3 4 5 "
     ]
    }
   ],
   "source": [
    "for x in range (1,6):\n",
    "    print (x, end=' ')"
   ]
  },
  {
   "cell_type": "markdown",
   "id": "92e5f60b",
   "metadata": {},
   "source": [
    "##question\n",
    "\n",
    "*\n",
    "**\n",
    "***\n",
    "****\n",
    "*****\n",
    "There are no spaces between consecutive stars. There are no spaces at the end of each line."
   ]
  },
  {
   "cell_type": "code",
   "execution_count": 359,
   "id": "9526a2d6",
   "metadata": {},
   "outputs": [
    {
     "name": "stdout",
     "output_type": "stream",
     "text": [
      "*\n",
      "**\n",
      "***\n",
      "****\n",
      "*****\n"
     ]
    }
   ],
   "source": [
    "a = str('*')\n",
    "print(a)\n",
    "print(a+a)\n",
    "print(a+a+a)\n",
    "print(a+a+a+a)\n",
    "print(a+a+a+a+a)"
   ]
  },
  {
   "cell_type": "markdown",
   "id": "3387f03d",
   "metadata": {},
   "source": [
    "Accept an integer as input and print its square as output."
   ]
  },
  {
   "cell_type": "code",
   "execution_count": 45,
   "id": "baac2d6c",
   "metadata": {},
   "outputs": [
    {
     "name": "stdout",
     "output_type": "stream",
     "text": [
      "5\n",
      "25\n"
     ]
    }
   ],
   "source": [
    "A = int(input())\n",
    "\n",
    "print(A*A)\n"
   ]
  },
  {
   "cell_type": "markdown",
   "id": "a04ed117",
   "metadata": {},
   "source": [
    "Accept two integers as input and print their sum as output."
   ]
  },
  {
   "cell_type": "code",
   "execution_count": 7,
   "id": "9c96d6d8",
   "metadata": {},
   "outputs": [
    {
     "name": "stdout",
     "output_type": "stream",
     "text": [
      "2\n",
      "3\n",
      "5\n"
     ]
    }
   ],
   "source": [
    "A = int(input())\n",
    "B = int(input())\n",
    "C = A+B\n",
    "print(C)"
   ]
  },
  {
   "cell_type": "markdown",
   "id": "e07751ab",
   "metadata": {},
   "source": [
    "Accept two words as input and print the two words after adding a space between them."
   ]
  },
  {
   "cell_type": "code",
   "execution_count": 8,
   "id": "303812df",
   "metadata": {},
   "outputs": [
    {
     "name": "stdout",
     "output_type": "stream",
     "text": [
      "se\n",
      "es\n",
      "se es\n"
     ]
    }
   ],
   "source": [
    "A = str(input())\n",
    "B = str(input())\n",
    "print(A+\" \"+B)"
   ]
  },
  {
   "cell_type": "markdown",
   "id": "d12abe3e",
   "metadata": {},
   "source": [
    "Accept the registration number of a vehicle as input and print its state-code as output."
   ]
  },
  {
   "cell_type": "code",
   "execution_count": 20,
   "id": "2e4ab6f0",
   "metadata": {},
   "outputs": [
    {
     "name": "stdout",
     "output_type": "stream",
     "text": [
      "Enter the number plate:hr4019\n",
      "h r\n"
     ]
    }
   ],
   "source": [
    "A = input('Enter the number plate:' )\n",
    "print(A[0],A[1])\n",
    "#remove the space frm output"
   ]
  },
  {
   "cell_type": "markdown",
   "id": "f797c6f5",
   "metadata": {},
   "source": [
    "Accept a five digit number as input and print the sum of its digits as output"
   ]
  },
  {
   "cell_type": "code",
   "execution_count": 27,
   "id": "70efc52a",
   "metadata": {},
   "outputs": [
    {
     "name": "stdout",
     "output_type": "stream",
     "text": [
      "12345"
     ]
    }
   ],
   "source": [
    "for x in range (1,6):\n",
    "    print(x, end='')\n",
    "#wrong approach\n",
    "    "
   ]
  },
  {
   "cell_type": "code",
   "execution_count": 30,
   "id": "454c590f",
   "metadata": {},
   "outputs": [
    {
     "name": "stdout",
     "output_type": "stream",
     "text": [
      "15\n"
     ]
    }
   ],
   "source": [
    "num = 5\n",
    "sum = 0\n",
    "for i in range(num+1):\n",
    "  sum+=i\n",
    "print(sum)"
   ]
  },
  {
   "cell_type": "code",
   "execution_count": 31,
   "id": "49a765f5",
   "metadata": {},
   "outputs": [
    {
     "name": "stdout",
     "output_type": "stream",
     "text": [
      "15\n"
     ]
    }
   ],
   "source": [
    "num=5\n",
    "sum=0\n",
    "for i in range(num+1):\n",
    "    sum+=i\n",
    "print(sum)"
   ]
  },
  {
   "cell_type": "code",
   "execution_count": 10,
   "id": "ad733bf7",
   "metadata": {},
   "outputs": [
    {
     "name": "stdout",
     "output_type": "stream",
     "text": [
      "15.0\n"
     ]
    }
   ],
   "source": [
    "n=5\n",
    "print(n*(n+1)/2)"
   ]
  },
  {
   "cell_type": "code",
   "execution_count": 14,
   "id": "b848c7a0",
   "metadata": {},
   "outputs": [
    {
     "ename": "IndentationError",
     "evalue": "expected an indented block (Temp/ipykernel_26632/33217300.py, line 4)",
     "output_type": "error",
     "traceback": [
      "\u001b[1;36m  File \u001b[1;32m\"C:\\Users\\NH1021\\AppData\\Local\\Temp/ipykernel_26632/33217300.py\"\u001b[1;36m, line \u001b[1;32m4\u001b[0m\n\u001b[1;33m    print(i)\u001b[0m\n\u001b[1;37m    ^\u001b[0m\n\u001b[1;31mIndentationError\u001b[0m\u001b[1;31m:\u001b[0m expected an indented block\n"
     ]
    }
   ],
   "source": []
  },
  {
   "cell_type": "markdown",
   "id": "97492302",
   "metadata": {},
   "source": [
    "\n"
   ]
  },
  {
   "cell_type": "markdown",
   "id": "e1e06963",
   "metadata": {},
   "source": [
    "Accept five words as input and print the sentence formed by these words after adding a space between consecutive words and a full stop at the end."
   ]
  },
  {
   "cell_type": "code",
   "execution_count": 2,
   "id": "e13cc4ab",
   "metadata": {},
   "outputs": [
    {
     "name": "stdout",
     "output_type": "stream",
     "text": [
      "Apple Orange laptop mouse eat .\n"
     ]
    }
   ],
   "source": [
    "list = ['Apple','Orange','laptop','mouse','eat','.']\n",
    "print(' '.join(list))\n",
    "#join is function and can't use here. plus \n"
   ]
  },
  {
   "cell_type": "code",
   "execution_count": 47,
   "id": "603d9393",
   "metadata": {},
   "outputs": [
    {
     "ename": "TypeError",
     "evalue": "can only concatenate str (not \"int\") to str",
     "output_type": "error",
     "traceback": [
      "\u001b[1;31m---------------------------------------------------------------------------\u001b[0m",
      "\u001b[1;31mTypeError\u001b[0m                                 Traceback (most recent call last)",
      "\u001b[1;32m~\\AppData\\Local\\Temp/ipykernel_21912/3765411539.py\u001b[0m in \u001b[0;36m<module>\u001b[1;34m\u001b[0m\n\u001b[0;32m      2\u001b[0m \u001b[0msum\u001b[0m \u001b[1;33m=\u001b[0m \u001b[1;36m0\u001b[0m\u001b[1;33m\u001b[0m\u001b[1;33m\u001b[0m\u001b[0m\n\u001b[0;32m      3\u001b[0m \u001b[1;32mfor\u001b[0m \u001b[0mi\u001b[0m \u001b[1;32min\u001b[0m \u001b[0mlist\u001b[0m\u001b[1;33m:\u001b[0m\u001b[1;33m\u001b[0m\u001b[1;33m\u001b[0m\u001b[0m\n\u001b[1;32m----> 4\u001b[1;33m     \u001b[0msum\u001b[0m \u001b[1;33m=\u001b[0m \u001b[0mi\u001b[0m\u001b[1;33m+\u001b[0m\u001b[1;36m1\u001b[0m\u001b[1;33m\u001b[0m\u001b[1;33m\u001b[0m\u001b[0m\n\u001b[0m\u001b[0;32m      5\u001b[0m     \u001b[0mprint\u001b[0m\u001b[1;33m(\u001b[0m\u001b[0msum\u001b[0m\u001b[1;33m)\u001b[0m\u001b[1;33m\u001b[0m\u001b[1;33m\u001b[0m\u001b[0m\n",
      "\u001b[1;31mTypeError\u001b[0m: can only concatenate str (not \"int\") to str"
     ]
    }
   ],
   "source": [
    "list = ['Apple','Orange','laptop','mouse','eat']\n",
    "sum = 0\n",
    "for i in list:\n",
    "    sum = i+1\n",
    "    print(sum)"
   ]
  },
  {
   "cell_type": "markdown",
   "id": "e16e895d",
   "metadata": {},
   "source": [
    "Accept the date in DD-MM-YYYY format as input and print the year as output."
   ]
  },
  {
   "cell_type": "code",
   "execution_count": 59,
   "id": "dd7991ea",
   "metadata": {},
   "outputs": [
    {
     "name": "stdout",
     "output_type": "stream",
     "text": [
      "Original date and time object: 2022-12-26 20:26:09.872565\n",
      "Date and Time in Integer Format: 20221226202609\n"
     ]
    }
   ],
   "source": [
    "# importing the datetime module\n",
    "import datetime\n",
    "\n",
    "# Getting todays date and time using now() of datetime\n",
    "# class\n",
    "current_date = datetime.datetime.now()\n",
    "\n",
    "# Printing the current_date as the date object itself.\n",
    "print(\"Original date and time object:\", current_date)\n",
    "\n",
    "# Using the strftime() of datetime class\n",
    "# which takes the components of date as parameter\n",
    "# %Y - year\n",
    "# %m - month\n",
    "# %d - day\n",
    "# %H - Hours\n",
    "# %M - Minutes\n",
    "# %S - Seconds\n",
    "print(\"Date and Time in Integer Format:\",\n",
    "\tint(current_date.strftime(\"%Y%m%d%H%M%S\")))\n"
   ]
  },
  {
   "cell_type": "code",
   "execution_count": 195,
   "id": "786b219e",
   "metadata": {},
   "outputs": [
    {
     "name": "stdout",
     "output_type": "stream",
     "text": [
      "16-12-2000\n",
      "2000\n"
     ]
    }
   ],
   "source": [
    "date = input()\n",
    "print(date[6:10])"
   ]
  },
  {
   "cell_type": "code",
   "execution_count": 65,
   "id": "e4c5679f",
   "metadata": {},
   "outputs": [
    {
     "name": "stdout",
     "output_type": "stream",
     "text": [
      "rhe\n"
     ]
    }
   ],
   "source": [
    "a = 'asdfrneiorhe'\n",
    "print(a[-3:])"
   ]
  },
  {
   "cell_type": "code",
   "execution_count": 2,
   "id": "b5c1e8a1",
   "metadata": {},
   "outputs": [
    {
     "name": "stdout",
     "output_type": "stream",
     "text": [
      "12-12-1222\n",
      "1222\n"
     ]
    }
   ],
   "source": [
    "date = input()\n",
    "print(date[-4:])"
   ]
  },
  {
   "cell_type": "markdown",
   "id": "2d6dc942",
   "metadata": {},
   "source": [
    "Accept a sequence of five single digit numbers separated by commas as input. Print the product of all five numbers."
   ]
  },
  {
   "cell_type": "code",
   "execution_count": 373,
   "id": "33139cdb",
   "metadata": {},
   "outputs": [
    {
     "name": "stdout",
     "output_type": "stream",
     "text": [
      "1,2,3,4,5\n",
      "120\n"
     ]
    }
   ],
   "source": [
    "a = input()\n",
    "b = int(a[:1])*int(a[2:3])*int(a[4:5])*int(a[6:7])*int(a[8:9])\n",
    "print(b)\n"
   ]
  },
  {
   "cell_type": "markdown",
   "id": "a9506c97",
   "metadata": {},
   "source": [
    "Assume that several IITs start offering online degrees across multiple branches. The email-id of a student is defined as follows:\n",
    "branch_degree_year_roll@student.onlinedegree.institute.ac.in\n",
    "For example, if the email-id is CS_BT_21_7412@student.onlinedegree.iitm.ac.in, then this student is from the computer science branch, pursuing a BTech degree from IITM, starting from the year 2021, with 7412 as the roll number. branch, degree and year are codes of length two, while roll and institute are codes of length four. Accept a student's email-id as input and print the following details, one item on each line:\n",
    "\n",
    "(1) Branch\n",
    "(2) Degree\n",
    "(3) Year\n",
    "(4) Roll number\n",
    "(5) Institute"
   ]
  },
  {
   "cell_type": "code",
   "execution_count": 28,
   "id": "e2b9d716",
   "metadata": {},
   "outputs": [
    {
     "name": "stdout",
     "output_type": "stream",
     "text": [
      "CS_BT_21_7412@student.onlinedegree.iitm.ac.in\n",
      "\n",
      " CS \n",
      " BT \n",
      " 21 \n",
      " 7412\n"
     ]
    }
   ],
   "source": [
    "# branch = input()\n",
    "# a,b,c,d,e = map(str, input().split())\n",
    "\n",
    "email = input()\n",
    "Branch = print(\"\\n\",email[0:2],\"\\n\",email[3:5],\"\\n\",email[6:8],\"\\n\",email[9:13])\n"
   ]
  },
  {
   "cell_type": "markdown",
   "id": "e2b6e3d9",
   "metadata": {},
   "source": [
    "Accept two positive integers x and y as input. Print the number of digits in x**y. You should be able to solve this problem using the concepts covered in week-1."
   ]
  },
  {
   "cell_type": "code",
   "execution_count": 355,
   "id": "33d13268",
   "metadata": {},
   "outputs": [
    {
     "name": "stdout",
     "output_type": "stream",
     "text": [
      "2\n",
      "2\n",
      "1\n"
     ]
    }
   ],
   "source": [
    "a = int(input())\n",
    "b = int(input())\n",
    "print(len(str(a**b)))\n"
   ]
  },
  {
   "cell_type": "markdown",
   "id": "b4c7566c",
   "metadata": {},
   "source": [
    "Accept two positive integers M and N as input. There are two cases to consider"
   ]
  },
  {
   "cell_type": "markdown",
   "id": "8773a013",
   "metadata": {},
   "source": [
    "(1) If M < N, then print M as output.\n",
    "\n",
    "(2) If M >= N, subtract N from M. Call the difference M1. If M1 >= N, then subtract N from M1 and call the difference M2. Keep doing this operation until you reach a value k, such that, Mk < N. You have to print the value of Mk as output. You should be able to solve this problem using the concepts covered in week-1."
   ]
  },
  {
   "cell_type": "code",
   "execution_count": 350,
   "id": "95923183",
   "metadata": {},
   "outputs": [
    {
     "name": "stdout",
     "output_type": "stream",
     "text": [
      "Enter the Value of M:120\n",
      "Enter the value of N: 7\n",
      "1\n"
     ]
    }
   ],
   "source": [
    "M = int(input(\"Enter the Value of M:\" ))\n",
    "N = int(input(\"Enter the value of N: \"))\n",
    "M1 = M-N\n",
    "if M<N:\n",
    "    print(M)\n",
    "else:\n",
    "    print(M % N)\n",
    "        "
   ]
  },
  {
   "cell_type": "code",
   "execution_count": 38,
   "id": "693f6998",
   "metadata": {},
   "outputs": [
    {
     "name": "stdout",
     "output_type": "stream",
     "text": [
      "1\n",
      "2\n",
      "3\n",
      "4\n",
      "5\n"
     ]
    }
   ],
   "source": [
    "i = 1\n",
    "while i < 6:\n",
    "  print(i)\n",
    "  i += 1"
   ]
  },
  {
   "cell_type": "markdown",
   "id": "f7fab5cf",
   "metadata": {},
   "source": [
    "Accept a non-zero integer as input. Print positive if it is greater than zero and negative if it is less than zero."
   ]
  },
  {
   "cell_type": "code",
   "execution_count": 64,
   "id": "9040a43b",
   "metadata": {},
   "outputs": [
    {
     "name": "stdout",
     "output_type": "stream",
     "text": [
      "0\n",
      "Positive\n"
     ]
    }
   ],
   "source": [
    "a = int(input());\n",
    "if a <0: print(\"Negative\"); \n",
    "else: print(\"Positive\");"
   ]
  },
  {
   "cell_type": "code",
   "execution_count": 47,
   "id": "f8bd9a82",
   "metadata": {},
   "outputs": [
    {
     "name": "stdout",
     "output_type": "stream",
     "text": [
      "5\n",
      "5 x 1 = 5\n",
      "5 x 2 = 10\n",
      "5 x 3 = 15\n",
      "5 x 4 = 20\n",
      "5 x 5 = 25\n",
      "5 x 6 = 30\n",
      "5 x 7 = 35\n",
      "5 x 8 = 40\n",
      "5 x 9 = 45\n",
      "5 x 10 = 50\n"
     ]
    }
   ],
   "source": [
    "num = int(input())\n",
    "for i in range(1,11):\n",
    "    print(num,'x',i,'=',num*i)"
   ]
  },
  {
   "cell_type": "code",
   "execution_count": 48,
   "id": "19687fbd",
   "metadata": {},
   "outputs": [
    {
     "name": "stdout",
     "output_type": "stream",
     "text": [
      "6\n",
      "6x1 = 6\n",
      "6x2 = 12\n",
      "6x3 = 18\n",
      "6x4 = 24\n",
      "6x5 = 30\n",
      "6x6 = 36\n",
      "6x7 = 42\n",
      "6x8 = 48\n",
      "6x9 = 54\n",
      "6x10 = 60\n"
     ]
    }
   ],
   "source": [
    "num = int(input())\n",
    "for i in range(1,11):\n",
    "    #print(num,'x',i,'=',num*i)\n",
    "    print(f'{num}x{i} = {num*i}')"
   ]
  },
  {
   "cell_type": "code",
   "execution_count": 52,
   "id": "6a9fa237",
   "metadata": {},
   "outputs": [
    {
     "name": "stdout",
     "output_type": "stream",
     "text": [
      "6\n",
      "6 x 1 =6\n",
      "6 x 2 =12\n",
      "6 x 3 =18\n",
      "6 x 4 =24\n",
      "6 x 5 =30\n",
      "6 x 6 =36\n",
      "6 x 7 =42\n",
      "6 x 8 =48\n",
      "6 x 9 =54\n",
      "6 x 10 =60\n"
     ]
    }
   ],
   "source": [
    "num = int(input())\n",
    "for i in range(1,11):\n",
    "    #print(num,'x',i,'=',num*i)\n",
    "    #print(f'{num}x{i} = {num*i}')\n",
    "    print('%d x %d =%d' % (num,i,num*i))"
   ]
  },
  {
   "cell_type": "code",
   "execution_count": 53,
   "id": "d699bab1",
   "metadata": {},
   "outputs": [
    {
     "name": "stdout",
     "output_type": "stream",
     "text": [
      "value of pi =3.142857142857143\n"
     ]
    }
   ],
   "source": [
    "pi = 22/7\n",
    "print(f'value of pi ={pi}'.format(pi))"
   ]
  },
  {
   "cell_type": "code",
   "execution_count": 69,
   "id": "0cf9c56a",
   "metadata": {},
   "outputs": [
    {
     "name": "stdout",
     "output_type": "stream",
     "text": [
      "-5\n",
      "0\n",
      "-3\n"
     ]
    }
   ],
   "source": [
    "x = int(input())\n",
    "if x<0:\n",
    "    print(0)\n",
    "if x>=10:\n",
    "    print((x**2)+2)\n",
    "else:\n",
    "    print(x+2)"
   ]
  },
  {
   "cell_type": "code",
   "execution_count": 196,
   "id": "78deea93",
   "metadata": {},
   "outputs": [
    {
     "name": "stdout",
     "output_type": "stream",
     "text": [
      "10\n",
      "102.0\n"
     ]
    }
   ],
   "source": [
    "x = float(input())\n",
    "if x <0:\n",
    "    print(0)\n",
    "else:\n",
    "    if x>=10:\n",
    "        print((x**2)+2)\n",
    "    else:\n",
    "        print(x+2)"
   ]
  },
  {
   "cell_type": "code",
   "execution_count": 85,
   "id": "b8d90870",
   "metadata": {},
   "outputs": [
    {
     "name": "stdout",
     "output_type": "stream",
     "text": [
      "25\n",
      "Invalid\n"
     ]
    }
   ],
   "source": [
    "t = float(input())\n",
    "\n",
    "if t < 0:\n",
    "    print('Invalid')\n",
    "else:\n",
    "    if 0 <= t <= 5:\n",
    "        print('Night')\n",
    "    else:\n",
    "        if 6 <=t <=11:6-\n",
    "            print('Morning')\n",
    "        else:\n",
    "            if 11<=t <=17:\n",
    "                print('Afternoon')\n",
    "            else:\n",
    "                if 18 <= t <= 23:\n",
    "                    print('Evening')\n",
    "                else:\n",
    "                    print('Invalid')"
   ]
  },
  {
   "cell_type": "code",
   "execution_count": 91,
   "id": "8ea3d135",
   "metadata": {},
   "outputs": [
    {
     "name": "stdout",
     "output_type": "stream",
     "text": [
      "4\n",
      "5\n",
      "6\n",
      "6\n"
     ]
    }
   ],
   "source": [
    "x1 = int(input())\n",
    "x2 = int(input())\n",
    "y1 = int(input())\n",
    "y2 = int(input())\n",
    "\n",
    "x-x1 = (y-y1)(x2-x1)/(y2-y1)\n"
   ]
  },
  {
   "cell_type": "code",
   "execution_count": 102,
   "id": "b65866b3",
   "metadata": {},
   "outputs": [
    {
     "name": "stdout",
     "output_type": "stream",
     "text": [
      "jise.\n",
      "jise\n"
     ]
    }
   ],
   "source": [
    "word = input()\n",
    "lgth = len(word)\n",
    "\n",
    "rem = lgth %2 == 0\n",
    "\n",
    "if rem != False:\n",
    "    print(word)\n",
    "else:\n",
    "    if word[-1] == '.':\n",
    "        word2 = word[:-1]\n",
    "        print(word2)\n",
    "    else:\n",
    "        word3 = word+'.'\n",
    "        print(word3)"
   ]
  },
  {
   "cell_type": "code",
   "execution_count": 104,
   "id": "6a7846c4",
   "metadata": {},
   "outputs": [
    {
     "name": "stdout",
     "output_type": "stream",
     "text": [
      "a\n",
      "b\n",
      "abc\n",
      "kie\n",
      "ikes\n",
      "['kie']\n"
     ]
    }
   ],
   "source": [
    "l1 = input()\n",
    "l2 = input()\n",
    "l3 = input()\n",
    "l4 = input()\n",
    "l5 = input()\n",
    "\n",
    "s1 = l1.split()\n",
    "s2 = l2.split()\n",
    "s3 = l3.split()\n",
    "s4 = l4.split()\n",
    "s5 = l5.split()\n",
    "\n",
    "print(s4)"
   ]
  },
  {
   "cell_type": "markdown",
   "id": "265a39ce",
   "metadata": {},
   "source": [
    "You have n gold coins with you. You wish to divide this among three of your friends under the following conditions:\n",
    "(1) All three of them should get a non-zero share.\n",
    "(2) No two of them should get the same number of coins.\n",
    "(3) You should not have any coins with you at the end of this sharing process.\n",
    "The input has four lines. The first line contains the number of coins with you. The next three lines will have the share given to your three friends. All inputs shall be non-negative integers. If the division satisfies these conditions, then print the string FAIR. If not, print UNFAIR."
   ]
  },
  {
   "cell_type": "code",
   "execution_count": 152,
   "id": "0ff9a56c",
   "metadata": {},
   "outputs": [
    {
     "name": "stdout",
     "output_type": "stream",
     "text": [
      "10\n",
      "2\n",
      "3\n",
      "5\n",
      "FAIR\n"
     ]
    }
   ],
   "source": [
    "total = int(input())\n",
    "f1 = int(input())\n",
    "f2 = int(input())\n",
    "f3 = int(input())\n",
    "\n",
    "if f1==0 or f2==0 or f3 == 0:\n",
    "    print('UNFAIR')\n",
    "else:\n",
    "    if f1==f2 or f1==f3 or f2==f3:\n",
    "        print('UNFAIR')\n",
    "    else:\n",
    "        if total - (f1+f2+f3) > 0:\n",
    "            print('UNFAIR')\n",
    "        else:\n",
    "            print('FAIR')\n",
    "  \n"
   ]
  },
  {
   "cell_type": "markdown",
   "id": "422a7462",
   "metadata": {},
   "source": [
    "Accept a real number xx as input and print the greatest integer less than or equal to xx on the first line, followed by the smallest integer greater than or equal to xx on the second line."
   ]
  },
  {
   "cell_type": "code",
   "execution_count": 167,
   "id": "bab6942d",
   "metadata": {},
   "outputs": [
    {
     "name": "stdout",
     "output_type": "stream",
     "text": [
      "2.5\n",
      "2\n"
     ]
    }
   ],
   "source": []
  },
  {
   "cell_type": "code",
   "execution_count": 185,
   "id": "fc77ec62",
   "metadata": {},
   "outputs": [
    {
     "name": "stdout",
     "output_type": "stream",
     "text": [
      "2.9\n",
      "3.0\n"
     ]
    }
   ],
   "source": [
    "n = float(input())\n",
    "\n",
    "i,d = divmod(n,1)\n",
    "\n",
    "# if d >=5:\n",
    "#     print(1)\n",
    "# else:\n",
    "#     print(0)\n",
    "#     print(i+d)\n",
    "if d <0.5:\n",
    "    n = i\n",
    "    print(n)\n",
    "else:\n",
    "    n=i+1\n",
    "    print(n)\n",
    "    \n"
   ]
  },
  {
   "cell_type": "code",
   "execution_count": 190,
   "id": "a8d98804",
   "metadata": {},
   "outputs": [
    {
     "data": {
      "text/plain": [
       "-2"
      ]
     },
     "execution_count": 190,
     "metadata": {},
     "output_type": "execute_result"
    }
   ],
   "source": [
    "int(-2.5)"
   ]
  },
  {
   "cell_type": "code",
   "execution_count": 187,
   "id": "513d9ccd",
   "metadata": {},
   "outputs": [
    {
     "data": {
      "text/plain": [
       "2"
      ]
     },
     "execution_count": 187,
     "metadata": {},
     "output_type": "execute_result"
    }
   ],
   "source": [
    "int(2.9)"
   ]
  },
  {
   "cell_type": "code",
   "execution_count": 189,
   "id": "c7b17a7a",
   "metadata": {},
   "outputs": [
    {
     "data": {
      "text/plain": [
       "0.5"
      ]
     },
     "execution_count": 189,
     "metadata": {},
     "output_type": "execute_result"
    }
   ],
   "source": [
    "2.5 - int(2.5)"
   ]
  },
  {
   "cell_type": "markdown",
   "id": "e497345a",
   "metadata": {},
   "source": [
    "Accept a string as input and print the vowels present in the string in alphabetical order. If the string doesn't contain any vowels, then print the string none as output. Each vowel that appears in the input string — irrespective of its case — should appear just once in lower case in the output."
   ]
  },
  {
   "cell_type": "code",
   "execution_count": 345,
   "id": "75c8fab1",
   "metadata": {},
   "outputs": [
    {
     "name": "stdout",
     "output_type": "stream",
     "text": [
      "wrtyp sdf\n",
      "none\n"
     ]
    }
   ],
   "source": [
    "word = input()\n",
    "if 'a' in word:\n",
    "    print('a')\n",
    "if 'e' in word:\n",
    "    print('e')\n",
    "if 'i' in word:\n",
    "    print('i')\n",
    "if 'o' in word:\n",
    "    print('o')\n",
    "if 'u' in word:\n",
    "    print('u')\n",
    "else:\n",
    "    print('none')"
   ]
  },
  {
   "cell_type": "markdown",
   "id": "06a43754",
   "metadata": {},
   "source": [
    "You are given the dates of birth of two persons, not necessarily from the same family. Your task is to find the younger of the two. If both of them share the same date of birth, then the younger of the two is assumed to be that person whose name comes first in alphabetical order.\n",
    "\n",
    "The input will have four lines. The first two lines correspond to the first person, while the last two lines correspond to the second person. For each person, the first line corresponds to the name and the second line corresponds to the date of birth in DD-MM-YYYY format. Your output should be the name of the younger of the two."
   ]
  },
  {
   "cell_type": "code",
   "execution_count": 347,
   "id": "f9ab7aee",
   "metadata": {},
   "outputs": [
    {
     "name": "stdout",
     "output_type": "stream",
     "text": [
      "enter the name of first person:aabbcc\n",
      "enter the date of birth in DD-MM-YYYY:12-12-2000\n",
      "enter the name of second person:aabbcd\n",
      "enter the date of birth in DD-MM-YYYY:12-12-2000\n",
      "aabbcc\n"
     ]
    }
   ],
   "source": [
    "#getting input for first person,his DOB, second person name and DOB\n",
    "name_a = input('enter the name of first person:' )\n",
    "dob_a = input('enter the date of birth in DD-MM-YYYY:' )\n",
    "name_b = input('enter the name of second person:' )\n",
    "dob_b = input('enter the date of birth in DD-MM-YYYY:' )\n",
    "\n",
    "#splitting the string and convert into int.\n",
    "day_a = int(dob_a[:2])\n",
    "month_a= int(dob_a[3:5])\n",
    "year_a = int(dob_a[6:10])\n",
    "\n",
    "day_b = int(dob_b[:2])\n",
    "month_b= int(dob_b[3:5])\n",
    "year_b = int(dob_b[6:10])\n",
    "\n",
    "#logic and code.\n",
    "\n",
    "if year_a>year_b:\n",
    "    print(name_a)\n",
    "elif year_b>year_a:\n",
    "    print(name_b)\n",
    "else:\n",
    "#     year_a=year_b\n",
    "    if month_a>month_b:\n",
    "        print(name_a)\n",
    "    elif month_b>month_a:\n",
    "        print(name_b)\n",
    "    else:\n",
    "#         month_a=month_b\n",
    "        if day_a>day_b:\n",
    "            print(name_a)\n",
    "        elif day_b>day_a:\n",
    "            print(name_b)\n",
    "        else:print(min(name_a,name_b))\n",
    "#             day_a = day_b \n",
    "#             if name_a[:1]>name_b[:1]:\n",
    "#                 print(name_a)\n",
    "#             else:print(name_b)\n",
    "           "
   ]
  },
  {
   "cell_type": "code",
   "execution_count": 251,
   "id": "19ef97e8",
   "metadata": {},
   "outputs": [
    {
     "name": "stdout",
     "output_type": "stream",
     "text": [
      "ABD\n"
     ]
    }
   ],
   "source": [
    "print(max(\"ABC\",\"ABD\"))\n"
   ]
  },
  {
   "cell_type": "markdown",
   "id": "96522b89",
   "metadata": {},
   "source": [
    "Accept a string as input. Your task is to determine if the input string is a valid password or not. For a string to be a valid password, it must satisfy all the conditions given below:\n",
    "\n",
    "(1) It should have at least 8 and at most 32 characters\n",
    "\n",
    "(2) It should start with an uppercase or lowercase letter\n",
    "\n",
    "(3) It should not have any of these characters: / \\ = ' \"\n",
    "\n",
    "(4) It should not have spaces\n",
    "\n",
    "It could have any character that is not mentioned in the list of characters to be avoided (points 3 and 4). Output True if the string forms a valid password and False otherwise."
   ]
  },
  {
   "cell_type": "code",
   "execution_count": 259,
   "id": "562d5763",
   "metadata": {},
   "outputs": [
    {
     "name": "stdout",
     "output_type": "stream",
     "text": [
      "12345678BHdd\n"
     ]
    }
   ],
   "source": [
    "pp = input()\n",
    "\n",
    "if 8<=len(pp)<=32:\n",
    "    if pp.isupper():\n",
    "        if pp.islower():\n",
    "            if pp != '/':\n",
    "                if pp != '=':\n",
    "                    print('Valid Passport')\n",
    "                else: print('Not Valid passport')\n",
    "                "
   ]
  },
  {
   "cell_type": "code",
   "execution_count": 260,
   "id": "82f9ecdf",
   "metadata": {},
   "outputs": [
    {
     "name": "stdout",
     "output_type": "stream",
     "text": [
      "valid\n"
     ]
    }
   ],
   "source": [
    "PP = 'niioierir'\n",
    "if 8<=len(pp)<=32:\n",
    "    print('valid')"
   ]
  },
  {
   "cell_type": "code",
   "execution_count": 295,
   "id": "f00e0887",
   "metadata": {},
   "outputs": [
    {
     "ename": "IndentationError",
     "evalue": "expected an indented block (Temp/ipykernel_38524/1691217590.py, line 4)",
     "output_type": "error",
     "traceback": [
      "\u001b[1;36m  File \u001b[1;32m\"C:\\Users\\NH1021\\AppData\\Local\\Temp/ipykernel_38524/1691217590.py\"\u001b[1;36m, line \u001b[1;32m4\u001b[0m\n\u001b[1;33m    for i in pp:\u001b[0m\n\u001b[1;37m    ^\u001b[0m\n\u001b[1;31mIndentationError\u001b[0m\u001b[1;31m:\u001b[0m expected an indented block\n"
     ]
    }
   ],
   "source": [
    "pp = input()\n",
    "\n",
    "if len(pp) >= 8 and len(pp) <= 32: \n",
    "for i in pp:\n",
    "    if i.islower():\n",
    "    if i.isupper():\n",
    "        print('VALID')\n",
    "else:\n",
    "    print('INVALID')\n",
    "                    "
   ]
  },
  {
   "cell_type": "code",
   "execution_count": null,
   "id": "d7bb5d8e",
   "metadata": {},
   "outputs": [],
   "source": []
  },
  {
   "cell_type": "code",
   "execution_count": null,
   "id": "d2ac462f",
   "metadata": {},
   "outputs": [],
   "source": [
    "\n",
    "        \n",
    "\n"
   ]
  },
  {
   "cell_type": "code",
   "execution_count": null,
   "id": "766f732e",
   "metadata": {},
   "outputs": [],
   "source": []
  },
  {
   "cell_type": "code",
   "execution_count": null,
   "id": "3822847b",
   "metadata": {},
   "outputs": [],
   "source": []
  },
  {
   "cell_type": "code",
   "execution_count": null,
   "id": "b2e194cf",
   "metadata": {},
   "outputs": [],
   "source": []
  },
  {
   "cell_type": "code",
   "execution_count": 343,
   "id": "9f7dc88c",
   "metadata": {},
   "outputs": [
    {
     "name": "stdout",
     "output_type": "stream",
     "text": [
      "1\n",
      "3\n",
      "4\n",
      "5\n",
      "6\n",
      "no\n"
     ]
    }
   ],
   "source": [
    "e1 = int(input())\n",
    "e2 = int(input())\n",
    "e3 = int(input())\n",
    "e4 = int(input())\n",
    "e5 = int(input())\n",
    "if (e1+e2)%2 != 0 or (e2+e3)%2 != 0 or (e3+e4)%2 != 0 or (e4+e5)%2 != 0 or (e5+e1)%2 != 0:\n",
    "    print('no')\n",
    "else:\n",
    "    print('yes')"
   ]
  },
  {
   "cell_type": "code",
   "execution_count": 1,
   "id": "f9103a62",
   "metadata": {},
   "outputs": [
    {
     "name": "stdout",
     "output_type": "stream",
     "text": [
      "a1\n",
      "c2\n"
     ]
    },
    {
     "ename": "TypeError",
     "evalue": "index() takes at least 1 argument (0 given)",
     "output_type": "error",
     "traceback": [
      "\u001b[1;31m---------------------------------------------------------------------------\u001b[0m",
      "\u001b[1;31mTypeError\u001b[0m                                 Traceback (most recent call last)",
      "\u001b[1;32m~\\AppData\\Local\\Temp/ipykernel_45668/2710602483.py\u001b[0m in \u001b[0;36m<module>\u001b[1;34m\u001b[0m\n\u001b[0;32m     11\u001b[0m \u001b[0men\u001b[0m \u001b[1;33m=\u001b[0m \u001b[0mint\u001b[0m\u001b[1;33m(\u001b[0m\u001b[0mend\u001b[0m\u001b[1;33m[\u001b[0m\u001b[1;36m1\u001b[0m\u001b[1;33m:\u001b[0m\u001b[1;36m2\u001b[0m\u001b[1;33m]\u001b[0m\u001b[1;33m)\u001b[0m\u001b[1;33m\u001b[0m\u001b[1;33m\u001b[0m\u001b[0m\n\u001b[0;32m     12\u001b[0m \u001b[1;33m\u001b[0m\u001b[0m\n\u001b[1;32m---> 13\u001b[1;33m \u001b[1;32mif\u001b[0m \u001b[0msa\u001b[0m\u001b[1;33m.\u001b[0m\u001b[0mindex\u001b[0m\u001b[1;33m(\u001b[0m\u001b[1;33m)\u001b[0m \u001b[1;33m==\u001b[0m \u001b[0mea\u001b[0m\u001b[1;33m.\u001b[0m\u001b[0mindex\u001b[0m\u001b[1;33m(\u001b[0m\u001b[1;33m)\u001b[0m\u001b[1;33m:\u001b[0m\u001b[1;33m\u001b[0m\u001b[1;33m\u001b[0m\u001b[0m\n\u001b[0m\u001b[0;32m     14\u001b[0m     \u001b[0mprint\u001b[0m\u001b[1;33m(\u001b[0m\u001b[1;34m'yes'\u001b[0m\u001b[1;33m)\u001b[0m\u001b[1;33m\u001b[0m\u001b[1;33m\u001b[0m\u001b[0m\n\u001b[0;32m     15\u001b[0m \u001b[1;33m\u001b[0m\u001b[0m\n",
      "\u001b[1;31mTypeError\u001b[0m: index() takes at least 1 argument (0 given)"
     ]
    }
   ],
   "source": [
    "#will take two input as string. create a list of alphabets from a to h.\n",
    "#split both the entries and check alpha numbers.substract with each and find the gap\n",
    "#compare the gap of alpha and numeric and if they are same will say yes otherwise no.\n",
    "\n",
    "start = input()\n",
    "end =input()\n",
    "\n",
    "sa = start[:1]\n",
    "sn = int(start[1:2])\n",
    "ea = end[:1]\n",
    "en = int(end[1:2])\n",
    "\n",
    "if sa.index() == ea.index():\n",
    "    print('yes')\n",
    "\n",
    "    "
   ]
  },
  {
   "cell_type": "markdown",
   "id": "43cd5e53",
   "metadata": {},
   "source": [
    "accept a positive inteter n as input and print the first positive first n integers, one number in each line."
   ]
  },
  {
   "cell_type": "code",
   "execution_count": 1,
   "id": "e724066c",
   "metadata": {},
   "outputs": [
    {
     "name": "stdout",
     "output_type": "stream",
     "text": [
      "5\n",
      "1\n",
      "2\n",
      "3\n",
      "4\n",
      "5\n"
     ]
    }
   ],
   "source": [
    "a = int(input())\n",
    "n = 0\n",
    "\n",
    "while n != a:\n",
    "    n = n+1\n",
    "    print(n)\n"
   ]
  },
  {
   "cell_type": "markdown",
   "id": "5314fcca",
   "metadata": {},
   "source": [
    "accept a positive integer n as input and print all factor of n, one number in each line."
   ]
  },
  {
   "cell_type": "code",
   "execution_count": 25,
   "id": "02fe1fdb",
   "metadata": {},
   "outputs": [
    {
     "name": "stdout",
     "output_type": "stream",
     "text": [
      "10\n",
      "1\n",
      "2\n",
      "5\n"
     ]
    }
   ],
   "source": [
    "n = int(input())\n",
    "m = 0\n",
    "while m < (n+1)/2:\n",
    "    m = m+1\n",
    "    if n % m == 0:\n",
    "        print(m)"
   ]
  },
  {
   "cell_type": "markdown",
   "id": "fed0cffc",
   "metadata": {},
   "source": [
    "accept two positive integers a and b as input. print the sum of all integer in the range [1000,2000], endpoint inclusive, that are divisible by both a and b. if you find no number satisfing this condition in given range, print 0"
   ]
  },
  {
   "cell_type": "code",
   "execution_count": 17,
   "id": "0244188d",
   "metadata": {},
   "outputs": [
    {
     "name": "stdout",
     "output_type": "stream",
     "text": [
      "17\n",
      "19\n",
      "1292\n",
      "1615\n",
      "1938\n"
     ]
    }
   ],
   "source": [
    "a = int(input())\n",
    "b = int(input())\n",
    "n = 1000\n",
    "while n != 2001:\n",
    "    n = n+1\n",
    "    if n %a ==0 and n % b == 0:\n",
    "        print(n)\n",
    "        "
   ]
  },
  {
   "cell_type": "markdown",
   "id": "fdb9382c",
   "metadata": {},
   "source": [
    "accept a positive interger n as input, n >1, print prime if n is a prime number and non prime otherwise"
   ]
  },
  {
   "cell_type": "code",
   "execution_count": 28,
   "id": "ffda67cf",
   "metadata": {},
   "outputs": [
    {
     "name": "stdout",
     "output_type": "stream",
     "text": [
      "7\n",
      "prime\n"
     ]
    }
   ],
   "source": [
    "n = int(input())\n",
    "m = 2\n",
    "\n",
    "while m < (n+1)/2:\n",
    "    m=m+1\n",
    "    if n%m==0:\n",
    "        print('non prime')\n",
    "        break\n",
    "    else:\n",
    "        print('prime')\n",
    "        break\n"
   ]
  },
  {
   "cell_type": "markdown",
   "id": "be2c69e0",
   "metadata": {},
   "source": [
    "accept a sequence of positive integers as input and print the maximum number in the sequence. the input will have n+1 lines, where n denotes the number of terms in the sequence. the ith line in the input will contain the ith term of the sequence for 1<= i <= n. the last line of the input will always be 0. each test case will have at least one term in sequence."
   ]
  },
  {
   "cell_type": "code",
   "execution_count": 29,
   "id": "c6eeb96f",
   "metadata": {},
   "outputs": [
    {
     "ename": "IndentationError",
     "evalue": "expected an indented block (Temp/ipykernel_14404/2641961393.py, line 5)",
     "output_type": "error",
     "traceback": [
      "\u001b[1;36m  File \u001b[1;32m\"C:\\Users\\NH1021\\AppData\\Local\\Temp/ipykernel_14404/2641961393.py\"\u001b[1;36m, line \u001b[1;32m5\u001b[0m\n\u001b[1;33m    \u001b[0m\n\u001b[1;37m    ^\u001b[0m\n\u001b[1;31mIndentationError\u001b[0m\u001b[1;31m:\u001b[0m expected an indented block\n"
     ]
    }
   ],
   "source": [
    "word = int(input())\n",
    "maxlen = 0\n",
    "\n"
   ]
  },
  {
   "cell_type": "markdown",
   "id": "0f9c8e59",
   "metadata": {},
   "source": [
    "accept a positive integer as input and print the sum of the digits in the number."
   ]
  },
  {
   "cell_type": "code",
   "execution_count": 71,
   "id": "94f39141",
   "metadata": {},
   "outputs": [
    {
     "name": "stdout",
     "output_type": "stream",
     "text": [
      "12345\n",
      "15\n"
     ]
    }
   ],
   "source": [
    "n = int(input())\n",
    "r = 0\n",
    "while (n>10):\n",
    "    r = r + n %10\n",
    "    n = n //10\n",
    "print(r+n)\n",
    "\n",
    "          \n"
   ]
  },
  {
   "cell_type": "markdown",
   "id": "6d0632fa",
   "metadata": {},
   "source": [
    "Accept a positive integer n as input and print the first n integers on a line separated by a comma.  "
   ]
  },
  {
   "cell_type": "code",
   "execution_count": 94,
   "id": "0b4ac429",
   "metadata": {},
   "outputs": [
    {
     "name": "stdout",
     "output_type": "stream",
     "text": [
      "10\n",
      "1,2,3,4,5,6,7,8,9,10\n"
     ]
    }
   ],
   "source": [
    "n = int(input())\n",
    "for i in range(1,(n+1),1):\n",
    "    \n",
    "   # print(i,end=',')\n",
    "    if i != n:\n",
    "        print(i,end=',')\n",
    "    else:\n",
    "        print(i)"
   ]
  },
  {
   "cell_type": "markdown",
   "id": "958f638b",
   "metadata": {},
   "source": [
    "accept a positive integer n as input and print a triangle of zeros for n lines.the ith line should have i zero. there should not be any space between consecutive zeros. do not print a space at the end of a line."
   ]
  },
  {
   "cell_type": "code",
   "execution_count": 114,
   "id": "badde583",
   "metadata": {
    "scrolled": true
   },
   "outputs": [
    {
     "name": "stdout",
     "output_type": "stream",
     "text": [
      "5\n",
      "0\n",
      "00\n",
      "000\n",
      "0000\n",
      "00000\n"
     ]
    }
   ],
   "source": [
    "n = int(input())\n",
    "s=0\n",
    "while s != n:\n",
    "    s=s+1\n",
    "    s == '0'\n",
    "    d=('0'*s)\n",
    "    \n",
    "    d.replace(' ','')\n",
    "    d.strip()\n",
    "    print(d)\n",
    "    \n"
   ]
  },
  {
   "cell_type": "markdown",
   "id": "0d929989",
   "metadata": {},
   "source": [
    "Accept a positive integer n as input and print the sum of all the prime numbers in the range [1,n], endpoint inclusive. If there are no prime numbers in the given range, then print 0"
   ]
  },
  {
   "cell_type": "code",
   "execution_count": 157,
   "id": "b6d55fb3",
   "metadata": {},
   "outputs": [
    {
     "name": "stdout",
     "output_type": "stream",
     "text": [
      "10\n",
      "2\n",
      "0\n",
      "3\n",
      "0\n",
      "0\n",
      "0\n",
      "6\n",
      "0\n"
     ]
    }
   ],
   "source": [
    "n = int(input())\n",
    "m = 1\n",
    "while m < (n+1)/2:\n",
    "    \n",
    "    if n % m == 0:\n",
    "        m = m+1\n",
    "        print(m)\n",
    "    else:\n",
    "        m =m+1\n",
    "    print('0')\n",
    "        \n",
    "        "
   ]
  },
  {
   "cell_type": "code",
   "execution_count": 158,
   "id": "9e414b4e",
   "metadata": {},
   "outputs": [
    {
     "name": "stdout",
     "output_type": "stream",
     "text": [
      "10\n",
      "3\n",
      "4\n",
      "6\n"
     ]
    }
   ],
   "source": [
    "n = int(input())\n",
    "m = 0\n",
    "r=0\n",
    "while m < (n+1)/2:\n",
    "    m = m+1\n",
    "    if n % m != 0:\n",
    "        \n",
    "        print(m)\n",
    "        "
   ]
  },
  {
   "cell_type": "code",
   "execution_count": 160,
   "id": "5671b431",
   "metadata": {},
   "outputs": [
    {
     "name": "stdout",
     "output_type": "stream",
     "text": [
      "564\n"
     ]
    }
   ],
   "source": [
    "List = [23,45,65,45,332,54]\n",
    "total = 0\n",
    "\n",
    "for index in range(len(List)):\n",
    "    total = total + List[index]\n",
    "print(total)"
   ]
  },
  {
   "cell_type": "code",
   "execution_count": 161,
   "id": "2ef8e123",
   "metadata": {},
   "outputs": [],
   "source": [
    "range = 5"
   ]
  },
  {
   "cell_type": "code",
   "execution_count": 163,
   "id": "a47f385b",
   "metadata": {},
   "outputs": [
    {
     "ename": "TypeError",
     "evalue": "'int' object is not callable",
     "output_type": "error",
     "traceback": [
      "\u001b[1;31m---------------------------------------------------------------------------\u001b[0m",
      "\u001b[1;31mTypeError\u001b[0m                                 Traceback (most recent call last)",
      "\u001b[1;32m~\\AppData\\Local\\Temp/ipykernel_14404/2200936752.py\u001b[0m in \u001b[0;36m<module>\u001b[1;34m\u001b[0m\n\u001b[1;32m----> 1\u001b[1;33m \u001b[0mprint\u001b[0m\u001b[1;33m(\u001b[0m\u001b[0mrange\u001b[0m\u001b[1;33m(\u001b[0m\u001b[1;36m5\u001b[0m\u001b[1;33m)\u001b[0m\u001b[1;33m)\u001b[0m\u001b[1;33m\u001b[0m\u001b[1;33m\u001b[0m\u001b[0m\n\u001b[0m",
      "\u001b[1;31mTypeError\u001b[0m: 'int' object is not callable"
     ]
    }
   ],
   "source": [
    "print(range(5))"
   ]
  },
  {
   "cell_type": "code",
   "execution_count": 19,
   "id": "9ed82579",
   "metadata": {},
   "outputs": [
    {
     "name": "stdout",
     "output_type": "stream",
     "text": [
      "2\n",
      "No Solution\n"
     ]
    }
   ],
   "source": [
    "n = int(input())\n",
    "flag=False\n",
    "\n",
    "for x in range(1,(n-2)):\n",
    "    for y in range(2,(n-1)):\n",
    "        for z in range(3,(n)):\n",
    "            if (x**2)+(y**2) == (z**2):\n",
    "                flag = True\n",
    "                print(x,y,z)\n",
    "                \n",
    "if flag == False:\n",
    "    print('No Solution')"
   ]
  },
  {
   "cell_type": "markdown",
   "id": "67a7d89d",
   "metadata": {},
   "source": [
    "for i in range(1,2):\n",
    "    print(i)"
   ]
  },
  {
   "cell_type": "markdown",
   "id": "147339bf",
   "metadata": {},
   "source": [
    "Accept two integer as input and form a new string by removing all characters from the second string which are present in the first string. print this new string as output. you cna assume that all input strings will be in lower case."
   ]
  },
  {
   "cell_type": "code",
   "execution_count": 96,
   "id": "3a050c1e",
   "metadata": {},
   "outputs": [
    {
     "name": "stdout",
     "output_type": "stream",
     "text": [
      "1234\n",
      "3456\n",
      "12\n"
     ]
    }
   ],
   "source": [
    "a = input()\n",
    "b = input()\n",
    "c =''\n",
    "for i in a:\n",
    "    if i not in b:\n",
    "        c += i\n",
    "print(c)"
   ]
  },
  {
   "cell_type": "markdown",
   "id": "d4cfca41",
   "metadata": {},
   "source": [
    "accept a positive integer n as input and print the sum of the first n terms of the series given below:\n",
    "1+(1+2)+(1+2+3)+(1+2+3+4)+...."
   ]
  },
  {
   "cell_type": "code",
   "execution_count": 88,
   "id": "9fb67b25",
   "metadata": {},
   "outputs": [
    {
     "name": "stdout",
     "output_type": "stream",
     "text": [
      "Enter value of n: 10\n"
     ]
    },
    {
     "ename": "TypeError",
     "evalue": "'float' object is not callable",
     "output_type": "error",
     "traceback": [
      "\u001b[1;31m---------------------------------------------------------------------------\u001b[0m",
      "\u001b[1;31mTypeError\u001b[0m                                 Traceback (most recent call last)",
      "\u001b[1;32m~\\AppData\\Local\\Temp/ipykernel_7476/3105058955.py\u001b[0m in \u001b[0;36m<module>\u001b[1;34m\u001b[0m\n\u001b[0;32m      1\u001b[0m \u001b[0mn\u001b[0m \u001b[1;33m=\u001b[0m \u001b[0mint\u001b[0m\u001b[1;33m(\u001b[0m\u001b[0minput\u001b[0m\u001b[1;33m(\u001b[0m\u001b[1;34m\"Enter value of n: \"\u001b[0m\u001b[1;33m)\u001b[0m\u001b[1;33m)\u001b[0m\u001b[1;33m\u001b[0m\u001b[1;33m\u001b[0m\u001b[0m\n\u001b[0;32m      2\u001b[0m \u001b[1;33m\u001b[0m\u001b[0m\n\u001b[1;32m----> 3\u001b[1;33m \u001b[0msum\u001b[0m \u001b[1;33m=\u001b[0m \u001b[0msum\u001b[0m\u001b[1;33m(\u001b[0m\u001b[1;33m[\u001b[0m\u001b[0mn\u001b[0m\u001b[1;33m*\u001b[0m\u001b[1;33m(\u001b[0m\u001b[0mn\u001b[0m\u001b[1;33m+\u001b[0m\u001b[1;36m1\u001b[0m\u001b[1;33m)\u001b[0m\u001b[1;33m/\u001b[0m\u001b[1;36m2\u001b[0m\u001b[1;33m]\u001b[0m\u001b[1;33m)\u001b[0m\u001b[1;33m\u001b[0m\u001b[1;33m\u001b[0m\u001b[0m\n\u001b[0m\u001b[0;32m      4\u001b[0m \u001b[1;32mfor\u001b[0m \u001b[0mi\u001b[0m \u001b[1;32min\u001b[0m \u001b[0mrange\u001b[0m\u001b[1;33m(\u001b[0m\u001b[1;36m1\u001b[0m\u001b[1;33m,\u001b[0m \u001b[0mn\u001b[0m\u001b[1;33m+\u001b[0m\u001b[1;36m1\u001b[0m\u001b[1;33m)\u001b[0m\u001b[1;33m:\u001b[0m\u001b[1;33m\u001b[0m\u001b[1;33m\u001b[0m\u001b[0m\n\u001b[0;32m      5\u001b[0m     \u001b[0mprint\u001b[0m\u001b[1;33m(\u001b[0m\u001b[0msum\u001b[0m\u001b[1;33m)\u001b[0m\u001b[1;33m\u001b[0m\u001b[1;33m\u001b[0m\u001b[0m\n",
      "\u001b[1;31mTypeError\u001b[0m: 'float' object is not callable"
     ]
    }
   ],
   "source": [
    "n = int(input())\n",
    "\n",
    "sum = sum([n*(n+1)/2]) \n",
    "for i in range(1, n+1):\n",
    "    print(sum)"
   ]
  },
  {
   "cell_type": "code",
   "execution_count": 95,
   "id": "85ca5b3d",
   "metadata": {},
   "outputs": [
    {
     "name": "stdout",
     "output_type": "stream",
     "text": [
      "10\n",
      "1.0+3.0+6.0+10.0+15.0+21.0+28.0+36.0+45.0+55.0+"
     ]
    }
   ],
   "source": [
    "n = int(input())\n",
    "i = 0\n",
    "total= 0\n",
    "\n",
    "while i != n:\n",
    "    i = i+1\n",
    "    total = (i*(i+1)/2)\n",
    "    print(total, end='+')\n",
    "\n"
   ]
  },
  {
   "cell_type": "markdown",
   "id": "33db6537",
   "metadata": {},
   "source": [
    "Accept a positive integer n with n >1, as input from user and print all prime factors of n in acending order."
   ]
  },
  {
   "cell_type": "code",
   "execution_count": 102,
   "id": "1f3e9c3d",
   "metadata": {},
   "outputs": [
    {
     "name": "stdout",
     "output_type": "stream",
     "text": [
      "20\n",
      "1,2,4,5,10,"
     ]
    }
   ],
   "source": [
    "n = int(input())\n",
    "m = 1\n",
    "while m < (n+1)/2:\n",
    "    m = m+1\n",
    "    if n % m == 0:\n",
    "        \n",
    "        print(m,end=',')\n",
    "    "
   ]
  },
  {
   "cell_type": "code",
   "execution_count": 114,
   "id": "63b62485",
   "metadata": {},
   "outputs": [
    {
     "name": "stdout",
     "output_type": "stream",
     "text": [
      "20\n",
      "2 2 5 5\n"
     ]
    }
   ],
   "source": [
    "n = int(input())\n",
    "c = 2\n",
    "while (n>1):\n",
    "    if (n%c ==0):\n",
    "        print(c, end =\" \")\n",
    "        n=n/c\n",
    "    else:\n",
    "        c=c+1\n",
    "print(c)"
   ]
  },
  {
   "cell_type": "code",
   "execution_count": 116,
   "id": "6cae83ad",
   "metadata": {},
   "outputs": [
    {
     "name": "stdout",
     "output_type": "stream",
     "text": [
      "20\n",
      "2 2 5 "
     ]
    }
   ],
   "source": [
    "n = int(input())\n",
    "def primefactor(n):\n",
    "    c = 2\n",
    "    while (n>1):\n",
    "        if (n%c ==0):\n",
    "            print(c, end =\" \")\n",
    "            n=n/c\n",
    "        else:\n",
    "            c=c+1\n",
    "primefactor(n)"
   ]
  },
  {
   "cell_type": "code",
   "execution_count": null,
   "id": "52e4af4d",
   "metadata": {},
   "outputs": [],
   "source": []
  },
  {
   "cell_type": "code",
   "execution_count": null,
   "id": "bcb20719",
   "metadata": {},
   "outputs": [],
   "source": []
  },
  {
   "cell_type": "markdown",
   "id": "626c7236",
   "metadata": {},
   "source": [
    "a bot start from the origin, and move up, down, right, left, find the mahattan distance."
   ]
  },
  {
   "cell_type": "code",
   "execution_count": 117,
   "id": "72231eef",
   "metadata": {},
   "outputs": [
    {
     "name": "stdout",
     "output_type": "stream",
     "text": [
      "Start\n",
      "left\n"
     ]
    },
    {
     "ename": "TypeError",
     "evalue": "unsupported operand type(s) for +: 'int' and 'str'",
     "output_type": "error",
     "traceback": [
      "\u001b[1;31m---------------------------------------------------------------------------\u001b[0m",
      "\u001b[1;31mTypeError\u001b[0m                                 Traceback (most recent call last)",
      "\u001b[1;32m~\\AppData\\Local\\Temp/ipykernel_7476/3916184109.py\u001b[0m in \u001b[0;36m<module>\u001b[1;34m\u001b[0m\n\u001b[0;32m      8\u001b[0m \u001b[1;33m\u001b[0m\u001b[0m\n\u001b[0;32m      9\u001b[0m \u001b[1;32mwhile\u001b[0m \u001b[0mmove\u001b[0m \u001b[1;33m!=\u001b[0m \u001b[1;34m'End'\u001b[0m\u001b[1;33m:\u001b[0m\u001b[1;33m\u001b[0m\u001b[1;33m\u001b[0m\u001b[0m\n\u001b[1;32m---> 10\u001b[1;33m     \u001b[0mx\u001b[0m\u001b[1;33m=\u001b[0m \u001b[0mx\u001b[0m\u001b[1;33m+\u001b[0m\u001b[0mmove\u001b[0m\u001b[1;33m\u001b[0m\u001b[1;33m\u001b[0m\u001b[0m\n\u001b[0m\u001b[0;32m     11\u001b[0m     \u001b[0my\u001b[0m\u001b[1;33m=\u001b[0m\u001b[0my\u001b[0m\u001b[1;33m+\u001b[0m\u001b[0mmove\u001b[0m\u001b[1;33m\u001b[0m\u001b[1;33m\u001b[0m\u001b[0m\n\u001b[0;32m     12\u001b[0m \u001b[0mprint\u001b[0m\u001b[1;33m(\u001b[0m\u001b[0mx\u001b[0m\u001b[1;33m,\u001b[0m\u001b[0my\u001b[0m\u001b[1;33m)\u001b[0m\u001b[1;33m\u001b[0m\u001b[1;33m\u001b[0m\u001b[0m\n",
      "\u001b[1;31mTypeError\u001b[0m: unsupported operand type(s) for +: 'int' and 'str'"
     ]
    }
   ],
   "source": [
    "print('Start')\n",
    "move = input()\n",
    "\n",
    "x = 0\n",
    "y = 0\n",
    "\n",
    "right = 1\n",
    "left = -1\n",
    "up = 1\n",
    "down = -1\n",
    "l = {x:'right',-x:'left',y:'up',-y:'down'}\n",
    "\n",
    "while move != 'End':\n",
    "    x= x+move\n",
    "    y=y+move\n",
    "print(x,y)\n",
    "    "
   ]
  },
  {
   "cell_type": "markdown",
   "id": "ad9fb44e",
   "metadata": {},
   "source": [
    "Accept a string as input, convert it in lower case, sort the alphabets in alphabetic order, and print the sort string to the console. you can assume that the string will only contains letters."
   ]
  },
  {
   "cell_type": "code",
   "execution_count": 128,
   "id": "390e2ec8",
   "metadata": {},
   "outputs": [
    {
     "name": "stdout",
     "output_type": "stream",
     "text": [
      "SJIRINFIE\n",
      "['e', 'f', 'i', 'i', 'i', 'j', 'n', 'r', 's']\n"
     ]
    }
   ],
   "source": [
    "n = input()\n",
    "m =n.lower()\n",
    "\n",
    "print(sorted(m))\n"
   ]
  },
  {
   "cell_type": "code",
   "execution_count": 149,
   "id": "f5e50af7",
   "metadata": {},
   "outputs": [
    {
     "name": "stdout",
     "output_type": "stream",
     "text": [
      "9876543212\n"
     ]
    },
    {
     "ename": "TypeError",
     "evalue": "'int' object is not iterable",
     "output_type": "error",
     "traceback": [
      "\u001b[1;31m---------------------------------------------------------------------------\u001b[0m",
      "\u001b[1;31mTypeError\u001b[0m                                 Traceback (most recent call last)",
      "\u001b[1;32m~\\AppData\\Local\\Temp/ipykernel_7476/3958333546.py\u001b[0m in \u001b[0;36m<module>\u001b[1;34m\u001b[0m\n\u001b[0;32m      2\u001b[0m \u001b[1;32mif\u001b[0m \u001b[0mnumber\u001b[0m\u001b[1;33m[\u001b[0m\u001b[1;36m0\u001b[0m\u001b[1;33m]\u001b[0m \u001b[1;33m==\u001b[0m \u001b[1;34m'9'\u001b[0m\u001b[1;32mor\u001b[0m \u001b[0mnumber\u001b[0m\u001b[1;33m[\u001b[0m\u001b[1;36m0\u001b[0m\u001b[1;33m]\u001b[0m \u001b[1;33m==\u001b[0m \u001b[1;34m'8'\u001b[0m \u001b[1;32mor\u001b[0m \u001b[0mnumber\u001b[0m\u001b[1;33m[\u001b[0m\u001b[1;36m0\u001b[0m\u001b[1;33m]\u001b[0m\u001b[1;33m==\u001b[0m\u001b[1;34m'7'\u001b[0m \u001b[1;32mor\u001b[0m \u001b[0mnumber\u001b[0m\u001b[1;33m[\u001b[0m\u001b[1;36m0\u001b[0m\u001b[1;33m]\u001b[0m\u001b[1;33m==\u001b[0m\u001b[1;34m'6'\u001b[0m\u001b[1;33m:\u001b[0m\u001b[1;33m\u001b[0m\u001b[1;33m\u001b[0m\u001b[0m\n\u001b[0;32m      3\u001b[0m     \u001b[1;32mfor\u001b[0m \u001b[0mi\u001b[0m \u001b[1;32min\u001b[0m \u001b[0mrange\u001b[0m\u001b[1;33m(\u001b[0m\u001b[0mlen\u001b[0m\u001b[1;33m(\u001b[0m\u001b[0mnumber\u001b[0m\u001b[1;33m)\u001b[0m\u001b[1;33m)\u001b[0m\u001b[1;33m:\u001b[0m\u001b[1;33m\u001b[0m\u001b[1;33m\u001b[0m\u001b[0m\n\u001b[1;32m----> 4\u001b[1;33m         \u001b[1;32mif\u001b[0m \u001b[0mmax\u001b[0m\u001b[1;33m(\u001b[0m\u001b[0mi\u001b[0m\u001b[1;33m)\u001b[0m\u001b[1;33m==\u001b[0m\u001b[1;36m10\u001b[0m\u001b[1;33m:\u001b[0m\u001b[1;33m\u001b[0m\u001b[1;33m\u001b[0m\u001b[0m\n\u001b[0m\u001b[0;32m      5\u001b[0m             \u001b[0mprint\u001b[0m\u001b[1;33m(\u001b[0m\u001b[1;34m'valid'\u001b[0m\u001b[1;33m)\u001b[0m\u001b[1;33m\u001b[0m\u001b[1;33m\u001b[0m\u001b[0m\n\u001b[0;32m      6\u001b[0m         \u001b[1;32melse\u001b[0m\u001b[1;33m:\u001b[0m\u001b[1;33m\u001b[0m\u001b[1;33m\u001b[0m\u001b[0m\n",
      "\u001b[1;31mTypeError\u001b[0m: 'int' object is not iterable"
     ]
    }
   ],
   "source": [
    "number = input()\n",
    "List = '1234567890'\n",
    "if number[0] == '9'or number[0] == '8' or number[0]=='7' or number[0]=='6':\n",
    "    if len(number) == 10:\n",
    "        count{}\n",
    "        \n",
    "        "
   ]
  },
  {
   "cell_type": "code",
   "execution_count": 172,
   "id": "d0c8aa59",
   "metadata": {},
   "outputs": [
    {
     "name": "stdout",
     "output_type": "stream",
     "text": [
      "9998\n",
      "3\n"
     ]
    }
   ],
   "source": [
    "number = input()\n",
    "\n",
    "List ='1234567890'\n",
    "\n",
    "count = {}\n",
    "for i in number:\n",
    "    if i in count:\n",
    "        count[i] += 1\n",
    "    else:\n",
    "        count[i] = 1\n",
    "\n",
    "for key in count:\n",
    "    if count[key] > 1:\n",
    "        print (count[key])"
   ]
  },
  {
   "cell_type": "code",
   "execution_count": 177,
   "id": "134f7f05",
   "metadata": {},
   "outputs": [
    {
     "name": "stdout",
     "output_type": "stream",
     "text": [
      "9987\n"
     ]
    },
    {
     "ename": "KeyboardInterrupt",
     "evalue": "",
     "output_type": "error",
     "traceback": [
      "\u001b[1;31m---------------------------------------------------------------------------\u001b[0m",
      "\u001b[1;31mKeyboardInterrupt\u001b[0m                         Traceback (most recent call last)",
      "\u001b[1;32m~\\AppData\\Local\\Temp/ipykernel_7476/2726072008.py\u001b[0m in \u001b[0;36m<module>\u001b[1;34m\u001b[0m\n\u001b[0;32m      4\u001b[0m \u001b[1;32mfor\u001b[0m \u001b[0mi\u001b[0m \u001b[1;32min\u001b[0m \u001b[0mrange\u001b[0m\u001b[1;33m(\u001b[0m\u001b[0mlen\u001b[0m\u001b[1;33m(\u001b[0m\u001b[0mn\u001b[0m\u001b[1;33m)\u001b[0m\u001b[1;33m)\u001b[0m\u001b[1;33m:\u001b[0m\u001b[1;33m\u001b[0m\u001b[1;33m\u001b[0m\u001b[0m\n\u001b[0;32m      5\u001b[0m     \u001b[1;32mwhile\u001b[0m \u001b[0mi\u001b[0m \u001b[1;33m!=\u001b[0m \u001b[0mn\u001b[0m\u001b[1;33m[\u001b[0m\u001b[1;33m-\u001b[0m\u001b[1;36m1\u001b[0m\u001b[1;33m]\u001b[0m\u001b[1;33m:\u001b[0m\u001b[1;33m\u001b[0m\u001b[1;33m\u001b[0m\u001b[0m\n\u001b[1;32m----> 6\u001b[1;33m         \u001b[1;32mif\u001b[0m \u001b[0mn\u001b[0m\u001b[1;33m[\u001b[0m\u001b[0mi\u001b[0m\u001b[1;33m]\u001b[0m \u001b[1;33m>=\u001b[0m \u001b[0mn\u001b[0m\u001b[1;33m[\u001b[0m\u001b[0mi\u001b[0m\u001b[1;33m-\u001b[0m\u001b[1;36m1\u001b[0m\u001b[1;33m]\u001b[0m\u001b[1;33m:\u001b[0m\u001b[1;33m\u001b[0m\u001b[1;33m\u001b[0m\u001b[0m\n\u001b[0m\u001b[0;32m      7\u001b[0m             \u001b[0ms\u001b[0m\u001b[1;33m=\u001b[0m\u001b[0mn\u001b[0m\u001b[1;33m[\u001b[0m\u001b[0mi\u001b[0m\u001b[1;33m]\u001b[0m\u001b[1;33m\u001b[0m\u001b[1;33m\u001b[0m\u001b[0m\n\u001b[0;32m      8\u001b[0m         \u001b[1;32melse\u001b[0m\u001b[1;33m:\u001b[0m\u001b[1;33m\u001b[0m\u001b[1;33m\u001b[0m\u001b[0m\n",
      "\u001b[1;31mKeyboardInterrupt\u001b[0m: "
     ]
    }
   ],
   "source": [
    "n = input()\n",
    "s=0\n",
    "\n",
    "for i in range(len(n)):\n",
    "    while i != n[-1]:\n",
    "        if n[i] >= n[i-1]:\n",
    "            s=n[i]\n",
    "        else:\n",
    "            s = n[i+1]\n",
    "print(s)"
   ]
  },
  {
   "cell_type": "code",
   "execution_count": 213,
   "id": "d8cda078",
   "metadata": {},
   "outputs": [
    {
     "ename": "NameError",
     "evalue": "name 'max_value' is not defined",
     "output_type": "error",
     "traceback": [
      "\u001b[1;31m---------------------------------------------------------------------------\u001b[0m",
      "\u001b[1;31mNameError\u001b[0m                                 Traceback (most recent call last)",
      "\u001b[1;32m~\\AppData\\Local\\Temp/ipykernel_7476/1027142275.py\u001b[0m in \u001b[0;36m<module>\u001b[1;34m\u001b[0m\n\u001b[0;32m     21\u001b[0m     \u001b[1;32mreturn\u001b[0m \u001b[0mmax_value\u001b[0m\u001b[1;33m\u001b[0m\u001b[1;33m\u001b[0m\u001b[0m\n\u001b[0;32m     22\u001b[0m \u001b[1;31m# Output the result\u001b[0m\u001b[1;33m\u001b[0m\u001b[1;33m\u001b[0m\u001b[0m\n\u001b[1;32m---> 23\u001b[1;33m \u001b[0mprint\u001b[0m\u001b[1;33m(\u001b[0m\u001b[0mget_max_from_list\u001b[0m\u001b[1;33m(\u001b[0m\u001b[0mmax_value\u001b[0m\u001b[1;33m)\u001b[0m\u001b[1;33m)\u001b[0m\u001b[1;33m\u001b[0m\u001b[1;33m\u001b[0m\u001b[0m\n\u001b[0m",
      "\u001b[1;31mNameError\u001b[0m: name 'max_value' is not defined"
     ]
    }
   ],
   "source": [
    "numbers = [1,1,2,3,5,9,8]\n",
    "max_value = numbers[0]\n",
    "\n",
    "for number in numbers[1:]:\n",
    "    if number>max_value:\n",
    "        max_value=number\n",
    "# maxnum = list1[0]\n",
    "\n",
    "# for x in list1:\n",
    "#     if x > (x+1):\n",
    "#         maxnum=x\n",
    "#     else:\n",
    "#         maxnum=x+1\n",
    "# print(maxnum)\n",
    "\n",
    "def get_max_from_list(numbers): \n",
    "    # Step 1) Initialize candidate to first element in list\n",
    "    max_value = numbers[0]\n",
    "    # Step 2) Go through all remaining numbers in the list\n",
    "    for number in numbers[1:]:\n",
    "        # Step 3) Check number is larger than our candidate\n",
    "        if number > max_value: \n",
    "            # Step 4&5) Overwrite candidate with maximum\n",
    "            max_value = number\n",
    "    # Outside of the loop max_value is not maximum\n",
    "    return max_value\n",
    "# Output the result \n",
    "print(get_max_from_list(max_value))"
   ]
  },
  {
   "cell_type": "code",
   "execution_count": 224,
   "id": "607777c2",
   "metadata": {},
   "outputs": [
    {
     "name": "stdout",
     "output_type": "stream",
     "text": [
      "8\n"
     ]
    }
   ],
   "source": [
    "list1 = [9,8,2,3,5,1,8]\n",
    "maxnum=list1[0]\n",
    "for i in range(len(list1)-1):\n",
    "    if list1[i]>list1[i+1]:\n",
    "        maxnum=list1[i]\n",
    "    else:\n",
    "        maxnum=list1[i+1]\n",
    "\n",
    "        if maxnum > list1[-1]:\n",
    "            print(maxnum)\n",
    "        else:\n",
    "            print(list1[-1])"
   ]
  },
  {
   "cell_type": "code",
   "execution_count": 215,
   "id": "ffa46674",
   "metadata": {},
   "outputs": [
    {
     "name": "stdout",
     "output_type": "stream",
     "text": [
      "9\n"
     ]
    }
   ],
   "source": [
    "list1 = [1,1,2,3,5,9,8]\n",
    "max_num=list1[0]\n",
    "for i in list1:\n",
    "    if i>max_num:\n",
    "        max_num=i\n",
    "print(max_num)"
   ]
  },
  {
   "cell_type": "code",
   "execution_count": 227,
   "id": "188d4de9",
   "metadata": {},
   "outputs": [
    {
     "name": "stdout",
     "output_type": "stream",
     "text": [
      "1\n"
     ]
    }
   ],
   "source": [
    "list1 =[1,1,2,3,5,9,8]\n",
    "min_num = list1[0]\n",
    "for i in list1:\n",
    "    if i<min_num:\n",
    "        min_num=i\n",
    "print(min_num)"
   ]
  },
  {
   "cell_type": "code",
   "execution_count": 253,
   "id": "0185ed1a",
   "metadata": {},
   "outputs": [
    {
     "name": "stdout",
     "output_type": "stream",
     "text": [
      "9\n",
      "5\n"
     ]
    }
   ],
   "source": [
    "l2 =[1,1,2,3,9,9,2,9,9,9]\n",
    "max_value=l2[0]\n",
    "count = 0\n",
    "for i in l2:\n",
    "    if i > max_value:\n",
    "        max_value=i\n",
    "for j in l2:\n",
    "    if j == max_value:\n",
    "        count = count+1\n",
    "#print(l2.count(max_value))\n",
    "print(max_value)\n",
    "print(count)"
   ]
  },
  {
   "cell_type": "code",
   "execution_count": 258,
   "id": "675a6903",
   "metadata": {},
   "outputs": [
    {
     "name": "stdout",
     "output_type": "stream",
     "text": [
      "98888888\n"
     ]
    }
   ],
   "source": [
    "number = input()\n",
    "List = '1234567890'\n",
    "max_count=0\n",
    "max_value=number[0]\n",
    "if number[0] == '9'or number[0] == '8' or number[0]=='7' or number[0]=='6':\n",
    "    if len(number) == 10:\n",
    "        for i in number:\n",
    "            if i > max_value:\n",
    "                max_value=i\n",
    "                max_count=number.count(max_value)\n",
    "                if max_count < 7:\n",
    "                    print('valid')\n",
    "        \n",
    "        \n",
    "        "
   ]
  },
  {
   "cell_type": "code",
   "execution_count": 254,
   "id": "8b016bbd",
   "metadata": {},
   "outputs": [
    {
     "name": "stdout",
     "output_type": "stream",
     "text": [
      "9\n",
      "9\n"
     ]
    }
   ],
   "source": [
    "number = str(123334544)\n",
    "count = 0\n",
    "k = 0\n",
    "for i in number:\n",
    "    if i== number[k]:\n",
    "        count = count+1\n",
    "        k= k+1\n",
    "    else:\n",
    "        k=k+1\n",
    "print(count)\n",
    "print(k)\n"
   ]
  },
  {
   "cell_type": "code",
   "execution_count": 268,
   "id": "2c8f6c50",
   "metadata": {},
   "outputs": [
    {
     "name": "stdout",
     "output_type": "stream",
     "text": [
      "START\n",
      "UP\n",
      "RIGHT\n",
      "LEFT\n",
      "LEFT\n",
      "DOWN\n",
      "UP\n",
      "STOP\n",
      "-1 1\n",
      "0\n"
     ]
    }
   ],
   "source": [
    "x=0\n",
    "y=0\n",
    "A=input()\n",
    "while A != 'STOP':\n",
    "    A=input()\n",
    "    if A=='LEFT':\n",
    "        x=x-1\n",
    "    elif A == 'RIGHT':\n",
    "        x=x+1\n",
    "    elif A == 'UP':\n",
    "        y=y+1\n",
    "    elif A == 'DOWN':\n",
    "        y=y-1\n",
    "print(x,y)\n"
   ]
  },
  {
   "cell_type": "code",
   "execution_count": 270,
   "id": "dc42182a",
   "metadata": {},
   "outputs": [
    {
     "name": "stdout",
     "output_type": "stream",
     "text": [
      "10\n",
      "8\n",
      "6\n",
      "4\n"
     ]
    }
   ],
   "source": [
    "for i in range(10,3,-2):\n",
    "    print(i)"
   ]
  },
  {
   "cell_type": "code",
   "execution_count": null,
   "id": "bfdec35a",
   "metadata": {},
   "outputs": [],
   "source": []
  },
  {
   "cell_type": "code",
   "execution_count": 273,
   "id": "abd6750b",
   "metadata": {},
   "outputs": [
    {
     "name": "stdout",
     "output_type": "stream",
     "text": [
      "5\n"
     ]
    }
   ],
   "source": []
  },
  {
   "cell_type": "code",
   "execution_count": 283,
   "id": "0275771b",
   "metadata": {},
   "outputs": [
    {
     "name": "stdout",
     "output_type": "stream",
     "text": [
      "55\n",
      "12345"
     ]
    }
   ],
   "source": [
    "n = int(input(n))\n",
    "for i in range(1,n+1):\n",
    "    print(i,end='')"
   ]
  },
  {
   "cell_type": "code",
   "execution_count": 154,
   "id": "d3f105b9",
   "metadata": {},
   "outputs": [
    {
     "name": "stdout",
     "output_type": "stream",
     "text": [
      "5\n",
      "1,\n",
      "\n",
      "1,2,\n",
      "\n",
      "1,2,3,\n",
      "\n",
      "1,2,3,4,\n",
      "\n",
      "1,2,3,4,5,\n",
      "\n",
      "1,2,3,4,\n",
      "\n",
      "1,2,3,\n",
      "\n",
      "1,2,\n",
      "\n",
      "1,\n",
      "\n"
     ]
    }
   ],
   "source": [
    "n = int(input())\n",
    "for i in range(1,(n+1)):  \n",
    "    for j in range(1,i+1):\n",
    "        print((j),end=',')\n",
    "    print('\\n')\n",
    "    \n",
    "for k in range((n),1,-1): \n",
    "    for w in range(k-1):\n",
    "        print(w+1,end=',')\n",
    "    print('\\n')"
   ]
  },
  {
   "cell_type": "code",
   "execution_count": 98,
   "id": "393a0f59",
   "metadata": {},
   "outputs": [
    {
     "name": "stdout",
     "output_type": "stream",
     "text": [
      "5\n",
      "1,\n",
      "\n",
      "1,2,\n",
      "\n",
      "1,2,3,\n",
      "\n",
      "1,2,3,4,\n",
      "\n",
      "1,2,3,4,5,\n",
      "\n",
      "1,2,3,4,\n",
      "\n",
      "1,2,3,\n",
      "\n",
      "1,2,\n",
      "\n",
      "1,\n",
      "\n"
     ]
    }
   ],
   "source": [
    "n = int(input()) #getting an input from user, could be any positive integer >=2\n",
    "for i in range(1,(n+1)): #creating a range and avoiding '0' as first number. \n",
    "    for j in range(1,i+1): #get one value of i at a time till i+1.\n",
    "        print((j),end=',')#print every result of above loop and insert comma in between\n",
    "    print('\\n')#break the line once one j loop complete and move to next line.\n",
    "    \n",
    "for k in range((n),1,-1): #(4,0,-1) startng with 4, go till 1 with -1 step at a time\n",
    "    for w in range(k-1): # pick one value of k starting from 4 till 1\n",
    "        print(w+1,end=',') # print w till w+1 and put comma and every element\n",
    "    #print(end='')\n",
    "    print('\\n')# once w loop ends everytime, break the line and move to next."
   ]
  },
  {
   "cell_type": "code",
   "execution_count": 101,
   "id": "0511548b",
   "metadata": {},
   "outputs": [
    {
     "name": "stdout",
     "output_type": "stream",
     "text": [
      "5\n",
      "1\n",
      "2\n",
      "3\n",
      "4\n",
      "5\n"
     ]
    }
   ],
   "source": [
    "n = int(input())\n",
    "for i in range (1,(n+1)):\n",
    "    print(i)"
   ]
  },
  {
   "cell_type": "code",
   "execution_count": 32,
   "id": "23ee52e5",
   "metadata": {},
   "outputs": [
    {
     "name": "stdout",
     "output_type": "stream",
     "text": [
      "5\n",
      "4\n",
      "3\n",
      "2\n",
      "1\n"
     ]
    }
   ],
   "source": []
  },
  {
   "cell_type": "code",
   "execution_count": 86,
   "id": "f4c50183",
   "metadata": {},
   "outputs": [
    {
     "name": "stdout",
     "output_type": "stream",
     "text": [
      "5\n",
      "1121,231,2,341,2,3,451,2,3,4,5,1,2,3,4,1,2,3,1,2,"
     ]
    }
   ],
   "source": [
    "n = int(input())\n",
    "for i in range(1,(n+1)):\n",
    "    for j in range(1,i+1):\n",
    "        m=j+1\n",
    "        print(j,end='')\n",
    "        if m<i:\n",
    "            (print(',',end=''))\n",
    "    \n",
    "for k in range((n+1),2,-1): #(5,0,-1)\n",
    "    for w in range(k-1): # 5\n",
    "        print(w+1,end=',')\n",
    "    #print(end='')\n",
    "    #print('\\n')"
   ]
  },
  {
   "cell_type": "markdown",
   "id": "1deeba98",
   "metadata": {},
   "source": [
    "##### "
   ]
  },
  {
   "cell_type": "code",
   "execution_count": 1,
   "id": "b75c2d7b",
   "metadata": {},
   "outputs": [
    {
     "name": "stdout",
     "output_type": "stream",
     "text": [
      "5\n",
      "1\n",
      "1,2\n",
      "1,2,3\n",
      "1,2,3,4\n",
      "1,2,3,4,5\n",
      "1,2,3,4\n",
      "1,2,3\n",
      "1,2\n",
      "1\n"
     ]
    }
   ],
   "source": [
    "n = int(input())\n",
    "for i in range(1,n+1):\n",
    "    for j in range(1,i+1):\n",
    "        if i==j:\n",
    "            print(j)\n",
    "        else:\n",
    "            print(j,end=\",\")\n",
    "for k in range(n-1,0,-1):\n",
    "    for l in range(1,k+1):\n",
    "        if k==l:\n",
    "            print(l)\n",
    "        else:\n",
    "            print(l, end=\",\")"
   ]
  },
  {
   "cell_type": "markdown",
   "id": "2c8bafd0",
   "metadata": {},
   "source": [
    "Accept a positive integer n as input and print the list of first n positive integer as output"
   ]
  },
  {
   "cell_type": "code",
   "execution_count": null,
   "id": "3d40fbae",
   "metadata": {},
   "outputs": [],
   "source": []
  },
  {
   "cell_type": "markdown",
   "id": "028937b8",
   "metadata": {},
   "source": [
    "accept a positive interger n as input and print the list of first n positive integer as output"
   ]
  },
  {
   "cell_type": "code",
   "execution_count": 43,
   "id": "6c8cbf7e",
   "metadata": {},
   "outputs": [
    {
     "name": "stdout",
     "output_type": "stream",
     "text": [
      "5\n",
      "[1, 2, 3, 4, 5]\n"
     ]
    }
   ],
   "source": [
    "n = int(input())\n",
    "l = []\n",
    "i=1\n",
    "while i < n:\n",
    "    for i in range(n):\n",
    "        l.append(i+1)\n",
    "        i += 1\n",
    "        \n",
    "print(l)"
   ]
  },
  {
   "cell_type": "markdown",
   "id": "0ddc5939",
   "metadata": {},
   "source": [
    "Accept a sequence of word as input, append all words to a list in the order in which they are entered, and print this list as output.the first line in the input is a positive integer n that denotes the number of words in the sequence. the next n lines will have one word on each line."
   ]
  },
  {
   "cell_type": "code",
   "execution_count": null,
   "id": "750553a1",
   "metadata": {},
   "outputs": [],
   "source": []
  },
  {
   "cell_type": "markdown",
   "id": "8f1ebfb6",
   "metadata": {},
   "source": [
    "Accept a sequence of comma separated integer as input and print the maximum value in the sequence as output. "
   ]
  },
  {
   "cell_type": "code",
   "execution_count": 86,
   "id": "25cea6bb",
   "metadata": {},
   "outputs": [
    {
     "name": "stdout",
     "output_type": "stream",
     "text": [
      "999,54543,654455433,0982904738372\n",
      "['999', '54543', '654455433', '0982904738372']\n",
      "982904738372\n"
     ]
    }
   ],
   "source": [
    "# accept a sequecne of comma seperartd integer\n",
    "# i will take input as string becoz input has comma and somoehow i have to convert it into integer\n",
    "n = input()\n",
    "n = n.split(',')\n",
    "a=[]\n",
    "b=[]\n",
    "\n",
    "for i in range(len(n)):\n",
    "    if n[i] == ',':\n",
    "        a.append(n[i])\n",
    "    else:\n",
    "        b.append(n[i])\n",
    "print(b)\n",
    "\n",
    "for j in range(0,len(b)):\n",
    "    b[j]=int(b[j])\n",
    "\n",
    "b.sort()\n",
    "print(b[-1])\n"
   ]
  },
  {
   "cell_type": "code",
   "execution_count": 83,
   "id": "2a53dccf",
   "metadata": {},
   "outputs": [
    {
     "name": "stdout",
     "output_type": "stream",
     "text": [
      "22,33,44\n",
      "['22', '33', '44']\n"
     ]
    }
   ],
   "source": [
    "# accept a sequecne of comma seperartd integer\n",
    "# i will take input as string becoz input has comma and somoehow i have to convert it into integer\n",
    "\n",
    "n = input()\n",
    "a=[]\n",
    "b=[]\n",
    "\n",
    "a= n.split(',')\n",
    "print(a)\n",
    "# for i in range(len(n)):\n",
    "#     while n[i] != n[-1]:\n",
    "#         flag=0\n",
    "#         if i != ',':\n",
    "#             a.append(n[i])\n",
    "#             flag = 1\n",
    "#         else:\n",
    "#             b.append(n[i])\n",
    "#             flag=0\n",
    "# print(a)\n",
    "# print(b)\n",
    "        \n",
    "      \n",
    "# for i in range(len(n)):\n",
    "#     if n[i] == ',':\n",
    "#         a.append(n[i])\n",
    "#     else:\n",
    "#         b.append(n[i])\n",
    "# print(b)\n",
    "\n",
    "# for j in range(0,len(b)):\n",
    "#     b[j]=int(b[j])\n",
    "\n",
    "# b.sort()\n",
    "# print(b[-1])"
   ]
  },
  {
   "cell_type": "code",
   "execution_count": 25,
   "id": "a13c0d88",
   "metadata": {},
   "outputs": [
    {
     "data": {
      "text/plain": [
       "True"
      ]
     },
     "execution_count": 25,
     "metadata": {},
     "output_type": "execute_result"
    }
   ],
   "source": [
    "m=[2,1,4,3,5,8,7,6]\n",
    "\n",
    "m[0]>m[1]"
   ]
  },
  {
   "cell_type": "markdown",
   "id": "8bc6cea5",
   "metadata": {},
   "source": [
    "Accept a sequence of word as input, append all these words to a list in the order in which they are entered, and print this list as output. the first line in the input is a positive integer n that denotes the numbers of words in the sequence. The next n lines will have one word on each line. "
   ]
  },
  {
   "cell_type": "code",
   "execution_count": 7,
   "id": "972c8a49",
   "metadata": {},
   "outputs": [
    {
     "name": "stdout",
     "output_type": "stream",
     "text": [
      "abcd\n",
      "4\n",
      "a\n",
      "b\n",
      "c\n",
      "d\n"
     ]
    }
   ],
   "source": [
    "n = input()\n",
    "a=[]\n",
    "\n",
    "for i in range(len(n)):\n",
    "    a.append(n[i])\n",
    "\n",
    "print(len(a))\n",
    "\n",
    "for i in a:\n",
    "    print(i,end='\\n')"
   ]
  },
  {
   "cell_type": "markdown",
   "id": "cdf55493",
   "metadata": {},
   "source": [
    "Accept a comma seperated integers as input and print the maximum value in the sequence as output."
   ]
  },
  {
   "cell_type": "code",
   "execution_count": 17,
   "id": "4e4899b4",
   "metadata": {},
   "outputs": [
    {
     "name": "stdout",
     "output_type": "stream",
     "text": [
      "1,2,3\n",
      "1,2,3\n"
     ]
    }
   ],
   "source": [
    "n = input()\n",
    "n = n.split()\n",
    "a = []\n",
    "b = []\n",
    "for i in range (0,len(n)):\n",
    "    if i != ',':\n",
    "        a.append(n[i])\n",
    "    else:\n",
    "        b.append(n[i])\n",
    "        \n",
    "print(n[0])\n"
   ]
  },
  {
   "cell_type": "markdown",
   "id": "cf89af2a",
   "metadata": {},
   "source": [
    "accept a space seperated of positive real number as input. convert each element of the sequence into the greatest interger less than or equal to it. print this sequence of interger as input , with comma between consecutive integers."
   ]
  },
  {
   "cell_type": "code",
   "execution_count": 34,
   "id": "ad9a2688",
   "metadata": {},
   "outputs": [
    {
     "name": "stdout",
     "output_type": "stream",
     "text": [
      "1.2,3.4\n"
     ]
    },
    {
     "ename": "KeyboardInterrupt",
     "evalue": "",
     "output_type": "error",
     "traceback": [
      "\u001b[1;31m---------------------------------------------------------------------------\u001b[0m",
      "\u001b[1;31mKeyboardInterrupt\u001b[0m                         Traceback (most recent call last)",
      "\u001b[1;32m~\\AppData\\Local\\Temp/ipykernel_2476/1587999594.py\u001b[0m in \u001b[0;36m<module>\u001b[1;34m\u001b[0m\n\u001b[0;32m     13\u001b[0m             \u001b[0mflag\u001b[0m\u001b[1;33m=\u001b[0m\u001b[1;36m0\u001b[0m\u001b[1;33m\u001b[0m\u001b[1;33m\u001b[0m\u001b[0m\n\u001b[0;32m     14\u001b[0m         \u001b[1;32melse\u001b[0m\u001b[1;33m:\u001b[0m\u001b[1;33m\u001b[0m\u001b[1;33m\u001b[0m\u001b[0m\n\u001b[1;32m---> 15\u001b[1;33m             \u001b[0ma\u001b[0m\u001b[1;33m.\u001b[0m\u001b[0mappend\u001b[0m\u001b[1;33m(\u001b[0m\u001b[0ma\u001b[0m\u001b[1;33m[\u001b[0m\u001b[0mi\u001b[0m\u001b[1;33m]\u001b[0m\u001b[1;33m)\u001b[0m\u001b[1;33m\u001b[0m\u001b[1;33m\u001b[0m\u001b[0m\n\u001b[0m\u001b[0;32m     16\u001b[0m             \u001b[0mflag\u001b[0m\u001b[1;33m=\u001b[0m\u001b[1;36m1\u001b[0m\u001b[1;33m\u001b[0m\u001b[1;33m\u001b[0m\u001b[0m\n\u001b[0;32m     17\u001b[0m     \u001b[1;32mbreak\u001b[0m\u001b[1;33m\u001b[0m\u001b[1;33m\u001b[0m\u001b[0m\n",
      "\u001b[1;31mKeyboardInterrupt\u001b[0m: "
     ]
    }
   ],
   "source": [
    "n = input()\n",
    "a=[]\n",
    "b=[]\n",
    "c=[]\n",
    "for i in range(len(n)):\n",
    "    a.append(n[i])\n",
    "\n",
    "for i in range(len(a)):\n",
    "    while i !=a[-1]:\n",
    "        flag=0\n",
    "        if a[i]==',':\n",
    "            b.append(a[i])\n",
    "            flag=0\n",
    "        else:\n",
    "            a.append(a[i])\n",
    "            flag=1\n",
    "    break\n",
    "print(a)\n",
    "print(b)\n",
    "print(c)"
   ]
  },
  {
   "cell_type": "code",
   "execution_count": 26,
   "id": "c1a4098c",
   "metadata": {},
   "outputs": [
    {
     "name": "stdout",
     "output_type": "stream",
     "text": [
      "1.2 4.5 .78\n",
      "[1, 4, 0]\n"
     ]
    }
   ],
   "source": [
    "a = input()\n",
    "a = a.split(\" \")\n",
    "a = [int(float(i)) for i in a]\n",
    "print(a)"
   ]
  },
  {
   "cell_type": "code",
   "execution_count": 25,
   "id": "6200bea9",
   "metadata": {},
   "outputs": [
    {
     "ename": "ValueError",
     "evalue": "invalid literal for int() with base 10: '1.2'",
     "output_type": "error",
     "traceback": [
      "\u001b[1;31m---------------------------------------------------------------------------\u001b[0m",
      "\u001b[1;31mValueError\u001b[0m                                Traceback (most recent call last)",
      "\u001b[1;32m~\\AppData\\Local\\Temp/ipykernel_11064/1070601798.py\u001b[0m in \u001b[0;36m<module>\u001b[1;34m\u001b[0m\n\u001b[1;32m----> 1\u001b[1;33m \u001b[0mint\u001b[0m\u001b[1;33m(\u001b[0m\u001b[1;34m'1.2'\u001b[0m\u001b[1;33m)\u001b[0m\u001b[1;33m\u001b[0m\u001b[1;33m\u001b[0m\u001b[0m\n\u001b[0m",
      "\u001b[1;31mValueError\u001b[0m: invalid literal for int() with base 10: '1.2'"
     ]
    }
   ],
   "source": [
    "int('1.2')"
   ]
  },
  {
   "cell_type": "markdown",
   "id": "baa47295",
   "metadata": {},
   "source": [
    "accept a sequence of comma seperated words as input. Reverse the sequence and print the output"
   ]
  },
  {
   "cell_type": "code",
   "execution_count": 59,
   "id": "0bd602a1",
   "metadata": {},
   "outputs": [
    {
     "name": "stdout",
     "output_type": "stream",
     "text": [
      "abcd,efgh,ijkl,mnop\n",
      "[]\n"
     ]
    }
   ],
   "source": [
    "n = input()\n",
    "a=[]\n",
    "b=[]\n",
    "\n",
    "n = n.split()\n",
    "for i in range(len(n)):\n",
    "    a.append(n[i])\n",
    "\n",
    "for j in range(len(a),1,-1):\n",
    "    b.append(a[j])\n",
    "print(b)\n",
    "# the 3 conditions\n",
    "#1. if input is one array, then output will be same array - no change\n",
    "#2 if input is two array, then output will be reverse the array - only one time revese\n",
    "#3 if input is more than two array, then output will be swapping first with last one than so on.\n",
    "# for point 3, we need to check if total number of element is odd or even\n",
    "# if element count is even than divide it by 2 and revese the order\n",
    "# else center of the element's position will not change and rest will swap their position.\n",
    "\n"
   ]
  },
  {
   "cell_type": "code",
   "execution_count": 14,
   "id": "6e77b491",
   "metadata": {},
   "outputs": [
    {
     "name": "stdout",
     "output_type": "stream",
     "text": [
      "ab,eg\n",
      "['g', 'e', ',', 'b', 'a']\n"
     ]
    }
   ],
   "source": [
    "original_list = input()\n",
    "new_list = [original_list[len(original_list) - i]\n",
    "            for i in range(1, len(original_list)+1)]\n",
    "print(new_list)\n"
   ]
  },
  {
   "cell_type": "code",
   "execution_count": 9,
   "id": "c977e419",
   "metadata": {},
   "outputs": [
    {
     "name": "stdout",
     "output_type": "stream",
     "text": [
      "abe,ege\n",
      "ege,eba\n"
     ]
    }
   ],
   "source": [
    "a= input()\n",
    "b=[]\n",
    "b=a[::-1]\n",
    "print(b)"
   ]
  },
  {
   "cell_type": "code",
   "execution_count": 17,
   "id": "a5f1913e",
   "metadata": {},
   "outputs": [
    {
     "name": "stdout",
     "output_type": "stream",
     "text": [
      "ab,cd\n",
      "['a', 'b', ',', 'c', 'd']\n"
     ]
    }
   ],
   "source": [
    "original_list = input()\n",
    "newlist=[]\n",
    "\n",
    "for i in range(len(original_list)):\n",
    "    newlist.append(original_list[i])\n",
    "print(newlist)"
   ]
  },
  {
   "cell_type": "markdown",
   "id": "08f3e917",
   "metadata": {},
   "source": [
    "an identity matrix is a square matrix which has ones on the main diagnal and zeros everywhere else. for example, the identity matrix of size 3x3 is \n",
    "1 0 0\n",
    "0 1 0\n",
    "0 0 1\n",
    "\n",
    "accept a positive integer n as input and print the identity matrix of size nxn. your output should have n lines, where each line is a sequence of n comma-separated integers that corresponds to one row of the matrix. "
   ]
  },
  {
   "cell_type": "code",
   "execution_count": 33,
   "id": "0ff7d990",
   "metadata": {},
   "outputs": [
    {
     "name": "stdout",
     "output_type": "stream",
     "text": [
      "3\n",
      "1 0 0 \n",
      "0 1 0 \n",
      "0 0 1 \n"
     ]
    }
   ],
   "source": [
    "n = int(input())\n",
    "for i in range(0,n):\n",
    "    for j in range(0,n):\n",
    "        if i == j:\n",
    "            print(\"1\",sep=\" \", end=\" \")\n",
    "        else:\n",
    "            print(\"0\",sep=\" \",end=\" \")\n",
    "    print()"
   ]
  },
  {
   "cell_type": "code",
   "execution_count": 54,
   "id": "a2779ee4",
   "metadata": {},
   "outputs": [
    {
     "name": "stdout",
     "output_type": "stream",
     "text": [
      "Dimension of matrix A: 3\n",
      "enter 8: 8\n",
      "012\n",
      "113\n",
      "234\n"
     ]
    }
   ],
   "source": [
    "a = int(input('Dimension of matrix A: ' ))\n",
    "b = int(input('enter 8: ' ))\n",
    "\n",
    "for i in range(0,a):\n",
    "    for j in range(0,a):\n",
    "        if i == j:\n",
    "            print(i*j,sep='',end='')\n",
    "        else:\n",
    "            print(i+j,sep='',end='')\n",
    "    \n",
    "    print()\n",
    "# for z in range(0,b):\n",
    "#     if z != a:\n",
    "#         print('8',sep=' ',end=' ')\n",
    "#     else:\n",
    "#         break\n",
    "# print()\n"
   ]
  },
  {
   "cell_type": "markdown",
   "id": "0bc28957",
   "metadata": {},
   "source": [
    "Accept two square matrices A and B of dimensions nxn as input and compute their A+B.\n"
   ]
  },
  {
   "cell_type": "code",
   "execution_count": 65,
   "id": "5d56a489",
   "metadata": {},
   "outputs": [
    {
     "name": "stdout",
     "output_type": "stream",
     "text": [
      "3\n",
      "3\n",
      "[0, 1, 2, 1, 2, 3, 2, 3, 4]\n",
      "\n"
     ]
    }
   ],
   "source": [
    "one = int(input())\n",
    "two = int(input())\n",
    "result= []\n",
    "for i in range(one):\n",
    "    for j in range(two):\n",
    "        result.append(i+j)\n",
    "print(result,sep='\\n')\n",
    "             "
   ]
  },
  {
   "cell_type": "code",
   "execution_count": 25,
   "id": "f3b8f404",
   "metadata": {},
   "outputs": [],
   "source": [
    "def square_mat(a):\n",
    "    c=[]\n",
    "    \n",
    "    for i in range(a):\n",
    "        c.append([])\n",
    "    for i in range(a):\n",
    "        for j in range(a):\n",
    "            c[j].append(a)\n",
    "    return c"
   ]
  },
  {
   "cell_type": "code",
   "execution_count": 26,
   "id": "603d4501",
   "metadata": {},
   "outputs": [
    {
     "data": {
      "text/plain": [
       "[[3, 3, 3], [3, 3, 3], [3, 3, 3]]"
      ]
     },
     "execution_count": 26,
     "metadata": {},
     "output_type": "execute_result"
    }
   ],
   "source": [
    "square_mat(3)"
   ]
  },
  {
   "cell_type": "code",
   "execution_count": 28,
   "id": "ba5debab",
   "metadata": {},
   "outputs": [
    {
     "name": "stdout",
     "output_type": "stream",
     "text": [
      "[1, 2, 3, 4]\n"
     ]
    }
   ],
   "source": [
    "l = [1,2,3,4]\n",
    "c=[]\n",
    "\n",
    "for i in l:\n",
    "    c.append(i)\n",
    "print (c)"
   ]
  },
  {
   "cell_type": "code",
   "execution_count": 1,
   "id": "9b6d917d",
   "metadata": {},
   "outputs": [],
   "source": [
    "import pandas as pd"
   ]
  },
  {
   "cell_type": "code",
   "execution_count": 29,
   "id": "963093df",
   "metadata": {},
   "outputs": [
    {
     "name": "stdout",
     "output_type": "stream",
     "text": [
      "abcdefghijkh\n",
      "fgh\n"
     ]
    }
   ],
   "source": [
    "word = input()\n",
    "\n",
    "if len(word) % 2 != 0:\n",
    "    odd = int(((len(word)-1)/2))\n",
    "    new_odd = int(odd-1)\n",
    "    print(word[new_odd:2*new_odd+1])\n",
    "else:\n",
    "    if (word[-1] == '.'):\n",
    "        word = word[:-2]\n",
    "        odd = int(((len(word)-1)/2))\n",
    "        new_odd = int(odd)\n",
    "        print(word[new_odd:new_odd+3])\n",
    "    else:\n",
    "        word = (word+'.')\n",
    "        odd = int(((len(word)-1)/2))\n",
    "        new_odd = int(odd)\n",
    "        print(word[new_odd-1:new_odd+2])\n",
    "\n",
    "        \n",
    "        "
   ]
  },
  {
   "cell_type": "code",
   "execution_count": 26,
   "id": "c397588d",
   "metadata": {},
   "outputs": [
    {
     "name": "stdout",
     "output_type": "stream",
     "text": [
      "abcdefghijk.\n",
      "12\n"
     ]
    }
   ],
   "source": [
    "word = input()\n",
    "print(len(word))"
   ]
  },
  {
   "cell_type": "code",
   "execution_count": 39,
   "id": "a1fd26a0",
   "metadata": {},
   "outputs": [
    {
     "name": "stdout",
     "output_type": "stream",
     "text": [
      "a\n",
      "bc\n",
      "bcd\n",
      "bcde\n",
      "bcdef\n",
      "Magical\n",
      "Non-Magical\n"
     ]
    }
   ],
   "source": [
    "w1 = input()\n",
    "w2 = input()\n",
    "w3 = input()\n",
    "w4 = input()\n",
    "w5 = input()\n",
    "for i in range (len(w1)):\n",
    "    w1[i] == w2[i]\n",
    "    for i in range (len(w2)):\n",
    "        w2[i] == w3[i]\n",
    "        for i in range (len(w3)):\n",
    "            w3[i] == w4[i]\n",
    "            for i in range (len(w4)):\n",
    "                w4[i] == w5[i]\n",
    "    print('Magical')\n",
    "\n",
    "for i in range (len(w1)):\n",
    "    w1[i] != w2[i]\n",
    "    for i in range (len(w2)):\n",
    "        w2[i] != w3[i]\n",
    "        for i in range (len(w3)):\n",
    "            w3[i] != w4[i]\n",
    "            for i in range (len(w4)):\n",
    "                w4[i] != w5[i]\n",
    "    print('Non-Magical')\n",
    "\n"
   ]
  },
  {
   "cell_type": "code",
   "execution_count": 42,
   "id": "1b0c9bcb",
   "metadata": {},
   "outputs": [
    {
     "name": "stdout",
     "output_type": "stream",
     "text": [
      "a\n",
      "ab\n",
      "abc\n",
      "abcd\n",
      "abcde\n"
     ]
    },
    {
     "ename": "IndexError",
     "evalue": "string index out of range",
     "output_type": "error",
     "traceback": [
      "\u001b[1;31m---------------------------------------------------------------------------\u001b[0m",
      "\u001b[1;31mIndexError\u001b[0m                                Traceback (most recent call last)",
      "\u001b[1;32m~\\AppData\\Local\\Temp/ipykernel_12256/1528548906.py\u001b[0m in \u001b[0;36m<module>\u001b[1;34m\u001b[0m\n\u001b[0;32m     10\u001b[0m             \u001b[1;32mfor\u001b[0m \u001b[0mi\u001b[0m \u001b[1;32min\u001b[0m \u001b[0mrange\u001b[0m\u001b[1;33m(\u001b[0m\u001b[0mlen\u001b[0m\u001b[1;33m(\u001b[0m\u001b[0mw4\u001b[0m\u001b[1;33m)\u001b[0m\u001b[1;33m)\u001b[0m\u001b[1;33m:\u001b[0m\u001b[1;33m\u001b[0m\u001b[1;33m\u001b[0m\u001b[0m\n\u001b[0;32m     11\u001b[0m                 \u001b[1;32mfor\u001b[0m \u001b[0mi\u001b[0m \u001b[1;32min\u001b[0m \u001b[0mrange\u001b[0m\u001b[1;33m(\u001b[0m\u001b[0mlen\u001b[0m\u001b[1;33m(\u001b[0m\u001b[0mw5\u001b[0m\u001b[1;33m)\u001b[0m\u001b[1;33m)\u001b[0m\u001b[1;33m:\u001b[0m\u001b[1;33m\u001b[0m\u001b[1;33m\u001b[0m\u001b[0m\n\u001b[1;32m---> 12\u001b[1;33m                     \u001b[1;32mif\u001b[0m \u001b[0mw1\u001b[0m\u001b[1;33m[\u001b[0m\u001b[0mi\u001b[0m\u001b[1;33m]\u001b[0m \u001b[1;33m==\u001b[0m \u001b[0mw2\u001b[0m\u001b[1;33m[\u001b[0m\u001b[0mi\u001b[0m\u001b[1;33m+\u001b[0m\u001b[1;36m1\u001b[0m\u001b[1;33m]\u001b[0m\u001b[1;33m:\u001b[0m\u001b[1;33m\u001b[0m\u001b[1;33m\u001b[0m\u001b[0m\n\u001b[0m\u001b[0;32m     13\u001b[0m                         \u001b[1;32mif\u001b[0m \u001b[0mw2\u001b[0m\u001b[1;33m[\u001b[0m\u001b[0mi\u001b[0m\u001b[1;33m]\u001b[0m\u001b[1;33m==\u001b[0m\u001b[0mw3\u001b[0m\u001b[1;33m[\u001b[0m\u001b[0mi\u001b[0m\u001b[1;33m]\u001b[0m\u001b[1;33m:\u001b[0m\u001b[1;33m\u001b[0m\u001b[1;33m\u001b[0m\u001b[0m\n\u001b[0;32m     14\u001b[0m                             \u001b[1;32mif\u001b[0m \u001b[0mw3\u001b[0m\u001b[1;33m[\u001b[0m\u001b[0mi\u001b[0m\u001b[1;33m]\u001b[0m\u001b[1;33m==\u001b[0m \u001b[0mw4\u001b[0m\u001b[1;33m[\u001b[0m\u001b[0mi\u001b[0m\u001b[1;33m]\u001b[0m\u001b[1;33m:\u001b[0m\u001b[1;33m\u001b[0m\u001b[1;33m\u001b[0m\u001b[0m\n",
      "\u001b[1;31mIndexError\u001b[0m: string index out of range"
     ]
    }
   ],
   "source": [
    "w1 = input()\n",
    "w2 = input()\n",
    "w3 = input()\n",
    "w4 = input()\n",
    "w5 = input()\n",
    "\n",
    "for i in range(len(w1)):\n",
    "    for i in range (len(w2)):\n",
    "        for i in range(len(w3)):\n",
    "            for i in range(len(w4)):\n",
    "                for i in range(len(w5)):\n",
    "                    if w1[i] == w2[i]:\n",
    "                        if w2[i]==w3[i]:\n",
    "                            if w3[i]== w4[i]:\n",
    "                                if w4[i] == w5[i]:\n",
    "                                    print('magical')"
   ]
  },
  {
   "cell_type": "code",
   "execution_count": null,
   "id": "7b2b4ff9",
   "metadata": {},
   "outputs": [],
   "source": []
  }
 ],
 "metadata": {
  "kernelspec": {
   "display_name": "Python 3 (ipykernel)",
   "language": "python",
   "name": "python3"
  },
  "language_info": {
   "codemirror_mode": {
    "name": "ipython",
    "version": 3
   },
   "file_extension": ".py",
   "mimetype": "text/x-python",
   "name": "python",
   "nbconvert_exporter": "python",
   "pygments_lexer": "ipython3",
   "version": "3.9.7"
  }
 },
 "nbformat": 4,
 "nbformat_minor": 5
}
